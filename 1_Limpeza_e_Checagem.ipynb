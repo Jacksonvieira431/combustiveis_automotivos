{
  "cells": [
    {
      "cell_type": "markdown",
      "metadata": {},
      "source": [
        "# Seja bem vindo ao projeto de Analise de combustiveis automotivos"
      ]
    },
    {
      "cell_type": "markdown",
      "metadata": {},
      "source": [
        "## 1.Contexto "
      ]
    },
    {
      "cell_type": "markdown",
      "metadata": {},
      "source": [
        "O objetivo do projeto é tentar prever os preços medios dos combustiveis até 2032 com base nos dados coletados de vendas dos combustiveis em postos do brasil inteiro desde 2012 até 2022"
      ]
    },
    {
      "cell_type": "markdown",
      "metadata": {},
      "source": [
        "## 2. Pacotes e Bibliotecas"
      ]
    },
    {
      "cell_type": "code",
      "execution_count": 2,
      "metadata": {},
      "outputs": [],
      "source": [
        "import pandas as pd\n",
        "import numpy as np\n",
        "from funções.amostras import gerar_amostra\n",
        "from funções.descompactando import descompactando\n",
        "import os\n",
        "from funções.diretorio_local import diretorio_local"
      ]
    },
    {
      "cell_type": "markdown",
      "metadata": {},
      "source": [
        " A função a seguir aborda várias etapas, incluindo a extração de arquivos RAR, leitura e processamento de arquivos CSV, manipulação de dados, limpeza, consolidação em um único DataFrame e os salvando em combustiveis.csv\n",
        "\n",
        " Você pode encontrar essa função sendo definida em Funções/descompactando.py"
      ]
    },
    {
      "cell_type": "code",
      "execution_count": 3,
      "metadata": {},
      "outputs": [
        {
          "name": "stdout",
          "output_type": "stream",
          "text": [
            "patool: Extracting C:/Users/jacks/OneDrive/Projetos/combustiveis_automotivos/Combustíveis Automotivos-2012-a-2022.rar ...\n",
            "patool: running \"C:\\Program Files\\WinRAR\\rar.EXE\" x -- \"C:\\Users\\jacks\\OneDrive\\Projetos\\combustiveis_automotivos\\Combustíveis Automotivos-2012-a-2022.rar\"\n",
            "patool:     with cwd=C:/Users/jacks/OneDrive/Projetos/combustiveis_automotivos/arquivos-extraidos/\n",
            "patool: ... C:/Users/jacks/OneDrive/Projetos/combustiveis_automotivos/Combustíveis Automotivos-2012-a-2022.rar extracted to `C:/Users/jacks/OneDrive/Projetos/combustiveis_automotivos/arquivos-extraidos/'.\n",
            "22 arquivos CSV extraídos e listados:\n",
            "['C:/Users/jacks/OneDrive/Projetos/combustiveis_automotivos/arquivos-extraidos/ca-2012-01.csv', 'C:/Users/jacks/OneDrive/Projetos/combustiveis_automotivos/arquivos-extraidos/ca-2012-02.csv', 'C:/Users/jacks/OneDrive/Projetos/combustiveis_automotivos/arquivos-extraidos/ca-2013-01.csv', 'C:/Users/jacks/OneDrive/Projetos/combustiveis_automotivos/arquivos-extraidos/ca-2013-02.csv', 'C:/Users/jacks/OneDrive/Projetos/combustiveis_automotivos/arquivos-extraidos/ca-2014-01.csv', 'C:/Users/jacks/OneDrive/Projetos/combustiveis_automotivos/arquivos-extraidos/ca-2014-02.csv', 'C:/Users/jacks/OneDrive/Projetos/combustiveis_automotivos/arquivos-extraidos/ca-2015-01.csv', 'C:/Users/jacks/OneDrive/Projetos/combustiveis_automotivos/arquivos-extraidos/ca-2015-02.csv', 'C:/Users/jacks/OneDrive/Projetos/combustiveis_automotivos/arquivos-extraidos/ca-2016-01.csv', 'C:/Users/jacks/OneDrive/Projetos/combustiveis_automotivos/arquivos-extraidos/ca-2016-02.csv', 'C:/Users/jacks/OneDrive/Projetos/combustiveis_automotivos/arquivos-extraidos/ca-2017-01.csv', 'C:/Users/jacks/OneDrive/Projetos/combustiveis_automotivos/arquivos-extraidos/ca-2017-02.csv', 'C:/Users/jacks/OneDrive/Projetos/combustiveis_automotivos/arquivos-extraidos/ca-2018-01.csv', 'C:/Users/jacks/OneDrive/Projetos/combustiveis_automotivos/arquivos-extraidos/ca-2018-02.csv', 'C:/Users/jacks/OneDrive/Projetos/combustiveis_automotivos/arquivos-extraidos/ca-2019-01.csv', 'C:/Users/jacks/OneDrive/Projetos/combustiveis_automotivos/arquivos-extraidos/ca-2019-02.csv', 'C:/Users/jacks/OneDrive/Projetos/combustiveis_automotivos/arquivos-extraidos/ca-2020-01.csv', 'C:/Users/jacks/OneDrive/Projetos/combustiveis_automotivos/arquivos-extraidos/ca-2020-02.csv', 'C:/Users/jacks/OneDrive/Projetos/combustiveis_automotivos/arquivos-extraidos/ca-2021-01.csv', 'C:/Users/jacks/OneDrive/Projetos/combustiveis_automotivos/arquivos-extraidos/ca-2021-02.csv', 'C:/Users/jacks/OneDrive/Projetos/combustiveis_automotivos/arquivos-extraidos/ca-2022-01.csv', 'C:/Users/jacks/OneDrive/Projetos/combustiveis_automotivos/arquivos-extraidos/ca-2022-02.csv']\n"
          ]
        },
        {
          "name": "stderr",
          "output_type": "stream",
          "text": [
            "Lendo e processando arquivos CSV:  77%|███████▋  | 17/22 [02:05<00:34,  6.89s/it]c:\\Users\\jacks\\OneDrive\\Projetos\\combustiveis_automotivos\\funções\\descompactando.py:38: DtypeWarning: Columns (13) have mixed types. Specify dtype option on import or set low_memory=False.\n",
            "  df = pd.read_csv(csv_path, sep=';', encoding=encoding, parse_dates=['Data da Coleta'])\n",
            "Lendo e processando arquivos CSV:  86%|████████▋ | 19/22 [02:13<00:16,  5.45s/it]"
          ]
        },
        {
          "name": "stdout",
          "output_type": "stream",
          "text": [
            "Tentando codificação utf-8 para o arquivo C:/Users/jacks/OneDrive/Projetos/combustiveis_automotivos/arquivos-extraidos/ca-2021-02.csv - Erro: 'utf-8' codec can't decode byte 0xd3 in position 34: invalid continuation byte\n"
          ]
        },
        {
          "name": "stderr",
          "output_type": "stream",
          "text": [
            "Lendo e processando arquivos CSV: 100%|██████████| 22/22 [02:34<00:00,  7.03s/it]\n"
          ]
        }
      ],
      "source": [
        "descompactando(diretorio_local)"
      ]
    },
    {
      "cell_type": "markdown",
      "metadata": {},
      "source": [
        "Ok, assim que finalizar o codigo você pode se preferir dar uma olhada em cada um dos arquivos csv que estão dentro da pasta agora criada \"arquivos-extraidos\" e combustiveis.csv"
      ]
    },
    {
      "cell_type": "markdown",
      "metadata": {},
      "source": [
        "A Função a seguir realiza várias etapas relacionadas à manipulação e análise de dados de combustíveis automotivos em um arquivo CSV. Essencialmente, essa função lê um arquivo CSV contendo dados de combustíveis automotivos, tenta diferentes encodings para leitura, seleciona uma amostra aleatória dos dados e retorna essa amostra como um DataFrame. é possivel fazer essa analise com varias amostras.\n",
        "\n",
        "Você pode encontrar essa função sendo definida em Funções/amostras.py\n",
        "\n",
        "OBS: Você pode aumenta o tamanho da amostra para uma melhor previsão com base em mais dados, mais exigirá muito do seu computador"
      ]
    },
    {
      "cell_type": "code",
      "execution_count": 4,
      "metadata": {},
      "outputs": [],
      "source": [
        "# Lembre-se de que 1% do arquivo dará 111.687 linhas o que dará 6.8 MBs\n",
        "tamanho_da_amostra_em_porcentagem = 5\n",
        "amostra_df = gerar_amostra(tamanho_da_amostra_em_porcentagem)\n",
        "\n",
        "# Ordenando datas\n",
        "amostra_df = amostra_df.sort_values(by='Data da Coleta')"
      ]
    },
    {
      "cell_type": "code",
      "execution_count": 5,
      "metadata": {},
      "outputs": [
        {
          "data": {
            "text/html": [
              "<div>\n",
              "<style scoped>\n",
              "    .dataframe tbody tr th:only-of-type {\n",
              "        vertical-align: middle;\n",
              "    }\n",
              "\n",
              "    .dataframe tbody tr th {\n",
              "        vertical-align: top;\n",
              "    }\n",
              "\n",
              "    .dataframe thead th {\n",
              "        text-align: right;\n",
              "    }\n",
              "</style>\n",
              "<table border=\"1\" class=\"dataframe\">\n",
              "  <thead>\n",
              "    <tr style=\"text-align: right;\">\n",
              "      <th></th>\n",
              "      <th>Regiao - Sigla</th>\n",
              "      <th>Estado - Sigla</th>\n",
              "      <th>Municipio</th>\n",
              "      <th>Produto</th>\n",
              "      <th>Valor de Venda</th>\n",
              "      <th>Unidade de Medida</th>\n",
              "      <th>Bandeira</th>\n",
              "    </tr>\n",
              "    <tr>\n",
              "      <th>Data da Coleta</th>\n",
              "      <th></th>\n",
              "      <th></th>\n",
              "      <th></th>\n",
              "      <th></th>\n",
              "      <th></th>\n",
              "      <th></th>\n",
              "      <th></th>\n",
              "    </tr>\n",
              "  </thead>\n",
              "  <tbody>\n",
              "    <tr>\n",
              "      <th>2012-01-02</th>\n",
              "      <td>NE</td>\n",
              "      <td>BA</td>\n",
              "      <td>FEIRA DE SANTANA</td>\n",
              "      <td>ETANOL</td>\n",
              "      <td>2.050</td>\n",
              "      <td>Litro</td>\n",
              "      <td>COSAN LUBRIFICANTES</td>\n",
              "    </tr>\n",
              "    <tr>\n",
              "      <th>2012-01-02</th>\n",
              "      <td>SE</td>\n",
              "      <td>RJ</td>\n",
              "      <td>ITAPERUNA</td>\n",
              "      <td>GASOLINA</td>\n",
              "      <td>2.849</td>\n",
              "      <td>Litro</td>\n",
              "      <td>RAIZEN</td>\n",
              "    </tr>\n",
              "    <tr>\n",
              "      <th>2012-01-02</th>\n",
              "      <td>S</td>\n",
              "      <td>PR</td>\n",
              "      <td>CAMPO MOURAO</td>\n",
              "      <td>GASOLINA</td>\n",
              "      <td>2.769</td>\n",
              "      <td>Litro</td>\n",
              "      <td>BRANCA</td>\n",
              "    </tr>\n",
              "    <tr>\n",
              "      <th>2012-01-02</th>\n",
              "      <td>N</td>\n",
              "      <td>PA</td>\n",
              "      <td>TUCURUI</td>\n",
              "      <td>DIESEL</td>\n",
              "      <td>2.310</td>\n",
              "      <td>Litro</td>\n",
              "      <td>IPIRANGA</td>\n",
              "    </tr>\n",
              "    <tr>\n",
              "      <th>2012-01-02</th>\n",
              "      <td>N</td>\n",
              "      <td>PA</td>\n",
              "      <td>SANTANA DO ARAGUAIA</td>\n",
              "      <td>DIESEL</td>\n",
              "      <td>2.300</td>\n",
              "      <td>Litro</td>\n",
              "      <td>RAIZEN</td>\n",
              "    </tr>\n",
              "  </tbody>\n",
              "</table>\n",
              "</div>"
            ],
            "text/plain": [
              "               Regiao - Sigla Estado - Sigla            Municipio   Produto  \\\n",
              "Data da Coleta                                                                \n",
              "2012-01-02                 NE             BA     FEIRA DE SANTANA    ETANOL   \n",
              "2012-01-02                 SE             RJ            ITAPERUNA  GASOLINA   \n",
              "2012-01-02                  S             PR         CAMPO MOURAO  GASOLINA   \n",
              "2012-01-02                  N             PA              TUCURUI    DIESEL   \n",
              "2012-01-02                  N             PA  SANTANA DO ARAGUAIA    DIESEL   \n",
              "\n",
              "                Valor de Venda Unidade de Medida             Bandeira  \n",
              "Data da Coleta                                                         \n",
              "2012-01-02               2.050             Litro  COSAN LUBRIFICANTES  \n",
              "2012-01-02               2.849             Litro               RAIZEN  \n",
              "2012-01-02               2.769             Litro               BRANCA  \n",
              "2012-01-02               2.310             Litro             IPIRANGA  \n",
              "2012-01-02               2.300             Litro               RAIZEN  "
            ]
          },
          "execution_count": 5,
          "metadata": {},
          "output_type": "execute_result"
        }
      ],
      "source": [
        "amostra_df.head()"
      ]
    },
    {
      "cell_type": "markdown",
      "metadata": {},
      "source": [
        "## 3. Checagem"
      ]
    },
    {
      "cell_type": "markdown",
      "metadata": {},
      "source": [
        "Antes de iniciar primeiro vamos checar para saber se os dados estão nos conformes.\n",
        "Precisamos garantir que os dados são solidos antes que possam ser ultilizado em qualquer analise"
      ]
    },
    {
      "cell_type": "code",
      "execution_count": 6,
      "metadata": {},
      "outputs": [
        {
          "data": {
            "text/plain": [
              "Regiao - Sigla       0\n",
              "Estado - Sigla       0\n",
              "Municipio            0\n",
              "Produto              0\n",
              "Valor de Venda       0\n",
              "Unidade de Medida    0\n",
              "Bandeira             0\n",
              "dtype: int64"
            ]
          },
          "execution_count": 6,
          "metadata": {},
          "output_type": "execute_result"
        }
      ],
      "source": [
        "# Verificando valores nulos\n",
        "amostra_df.isnull().sum()"
      ]
    },
    {
      "cell_type": "markdown",
      "metadata": {},
      "source": [
        "Se todas colunas deram 0 isso é uma otima noticia, assim não temos nenhum dado faltante na tabela"
      ]
    },
    {
      "cell_type": "code",
      "execution_count": 7,
      "metadata": {},
      "outputs": [
        {
          "data": {
            "text/html": [
              "<div>\n",
              "<style scoped>\n",
              "    .dataframe tbody tr th:only-of-type {\n",
              "        vertical-align: middle;\n",
              "    }\n",
              "\n",
              "    .dataframe tbody tr th {\n",
              "        vertical-align: top;\n",
              "    }\n",
              "\n",
              "    .dataframe thead th {\n",
              "        text-align: right;\n",
              "    }\n",
              "</style>\n",
              "<table border=\"1\" class=\"dataframe\">\n",
              "  <thead>\n",
              "    <tr style=\"text-align: right;\">\n",
              "      <th></th>\n",
              "      <th>Regiao - Sigla</th>\n",
              "      <th>Estado - Sigla</th>\n",
              "      <th>Municipio</th>\n",
              "      <th>Produto</th>\n",
              "      <th>Valor de Venda</th>\n",
              "      <th>Unidade de Medida</th>\n",
              "      <th>Bandeira</th>\n",
              "    </tr>\n",
              "    <tr>\n",
              "      <th>Data da Coleta</th>\n",
              "      <th></th>\n",
              "      <th></th>\n",
              "      <th></th>\n",
              "      <th></th>\n",
              "      <th></th>\n",
              "      <th></th>\n",
              "      <th></th>\n",
              "    </tr>\n",
              "  </thead>\n",
              "  <tbody>\n",
              "    <tr>\n",
              "      <th>2012-01-02</th>\n",
              "      <td>NE</td>\n",
              "      <td>BA</td>\n",
              "      <td>FEIRA DE SANTANA</td>\n",
              "      <td>ETANOL</td>\n",
              "      <td>2.050</td>\n",
              "      <td>Litro</td>\n",
              "      <td>COSAN LUBRIFICANTES</td>\n",
              "    </tr>\n",
              "    <tr>\n",
              "      <th>2012-01-02</th>\n",
              "      <td>SE</td>\n",
              "      <td>RJ</td>\n",
              "      <td>ITAPERUNA</td>\n",
              "      <td>GASOLINA</td>\n",
              "      <td>2.849</td>\n",
              "      <td>Litro</td>\n",
              "      <td>RAIZEN</td>\n",
              "    </tr>\n",
              "    <tr>\n",
              "      <th>2012-01-02</th>\n",
              "      <td>S</td>\n",
              "      <td>PR</td>\n",
              "      <td>CAMPO MOURAO</td>\n",
              "      <td>GASOLINA</td>\n",
              "      <td>2.769</td>\n",
              "      <td>Litro</td>\n",
              "      <td>BRANCA</td>\n",
              "    </tr>\n",
              "    <tr>\n",
              "      <th>2012-01-02</th>\n",
              "      <td>N</td>\n",
              "      <td>PA</td>\n",
              "      <td>TUCURUI</td>\n",
              "      <td>DIESEL</td>\n",
              "      <td>2.310</td>\n",
              "      <td>Litro</td>\n",
              "      <td>IPIRANGA</td>\n",
              "    </tr>\n",
              "    <tr>\n",
              "      <th>2012-01-02</th>\n",
              "      <td>N</td>\n",
              "      <td>PA</td>\n",
              "      <td>SANTANA DO ARAGUAIA</td>\n",
              "      <td>DIESEL</td>\n",
              "      <td>2.300</td>\n",
              "      <td>Litro</td>\n",
              "      <td>RAIZEN</td>\n",
              "    </tr>\n",
              "  </tbody>\n",
              "</table>\n",
              "</div>"
            ],
            "text/plain": [
              "               Regiao - Sigla Estado - Sigla            Municipio   Produto  \\\n",
              "Data da Coleta                                                                \n",
              "2012-01-02                 NE             BA     FEIRA DE SANTANA    ETANOL   \n",
              "2012-01-02                 SE             RJ            ITAPERUNA  GASOLINA   \n",
              "2012-01-02                  S             PR         CAMPO MOURAO  GASOLINA   \n",
              "2012-01-02                  N             PA              TUCURUI    DIESEL   \n",
              "2012-01-02                  N             PA  SANTANA DO ARAGUAIA    DIESEL   \n",
              "\n",
              "                Valor de Venda Unidade de Medida             Bandeira  \n",
              "Data da Coleta                                                         \n",
              "2012-01-02               2.050             Litro  COSAN LUBRIFICANTES  \n",
              "2012-01-02               2.849             Litro               RAIZEN  \n",
              "2012-01-02               2.769             Litro               BRANCA  \n",
              "2012-01-02               2.310             Litro             IPIRANGA  \n",
              "2012-01-02               2.300             Litro               RAIZEN  "
            ]
          },
          "execution_count": 7,
          "metadata": {},
          "output_type": "execute_result"
        }
      ],
      "source": [
        "# vamos ver as 5 primeiras linhas\n",
        "amostra_df.head()"
      ]
    },
    {
      "cell_type": "code",
      "execution_count": 9,
      "metadata": {},
      "outputs": [
        {
          "data": {
            "text/html": [
              "<div>\n",
              "<style scoped>\n",
              "    .dataframe tbody tr th:only-of-type {\n",
              "        vertical-align: middle;\n",
              "    }\n",
              "\n",
              "    .dataframe tbody tr th {\n",
              "        vertical-align: top;\n",
              "    }\n",
              "\n",
              "    .dataframe thead th {\n",
              "        text-align: right;\n",
              "    }\n",
              "</style>\n",
              "<table border=\"1\" class=\"dataframe\">\n",
              "  <thead>\n",
              "    <tr style=\"text-align: right;\">\n",
              "      <th></th>\n",
              "      <th>Regiao - Sigla</th>\n",
              "      <th>Estado - Sigla</th>\n",
              "      <th>Municipio</th>\n",
              "      <th>Produto</th>\n",
              "      <th>Valor de Venda</th>\n",
              "      <th>Unidade de Medida</th>\n",
              "      <th>Bandeira</th>\n",
              "    </tr>\n",
              "    <tr>\n",
              "      <th>Data da Coleta</th>\n",
              "      <th></th>\n",
              "      <th></th>\n",
              "      <th></th>\n",
              "      <th></th>\n",
              "      <th></th>\n",
              "      <th></th>\n",
              "      <th></th>\n",
              "    </tr>\n",
              "  </thead>\n",
              "  <tbody>\n",
              "    <tr>\n",
              "      <th>2022-12-30</th>\n",
              "      <td>SE</td>\n",
              "      <td>SP</td>\n",
              "      <td>PIRACICABA</td>\n",
              "      <td>GASOLINA</td>\n",
              "      <td>4.89</td>\n",
              "      <td>Litro</td>\n",
              "      <td>BRANCA</td>\n",
              "    </tr>\n",
              "    <tr>\n",
              "      <th>2022-12-30</th>\n",
              "      <td>S</td>\n",
              "      <td>SC</td>\n",
              "      <td>BLUMENAU</td>\n",
              "      <td>ETANOL</td>\n",
              "      <td>4.29</td>\n",
              "      <td>Litro</td>\n",
              "      <td>IPIRANGA</td>\n",
              "    </tr>\n",
              "    <tr>\n",
              "      <th>2022-12-30</th>\n",
              "      <td>SE</td>\n",
              "      <td>SP</td>\n",
              "      <td>PIRACICABA</td>\n",
              "      <td>DIESEL</td>\n",
              "      <td>6.59</td>\n",
              "      <td>Litro</td>\n",
              "      <td>BRANCA</td>\n",
              "    </tr>\n",
              "    <tr>\n",
              "      <th>2022-12-30</th>\n",
              "      <td>S</td>\n",
              "      <td>SC</td>\n",
              "      <td>BLUMENAU</td>\n",
              "      <td>DIESEL S10</td>\n",
              "      <td>6.28</td>\n",
              "      <td>Litro</td>\n",
              "      <td>BRANCA</td>\n",
              "    </tr>\n",
              "    <tr>\n",
              "      <th>2022-12-30</th>\n",
              "      <td>S</td>\n",
              "      <td>SC</td>\n",
              "      <td>BLUMENAU</td>\n",
              "      <td>GASOLINA ADITIVADA</td>\n",
              "      <td>5.31</td>\n",
              "      <td>Litro</td>\n",
              "      <td>VIBRA ENERGIA</td>\n",
              "    </tr>\n",
              "  </tbody>\n",
              "</table>\n",
              "</div>"
            ],
            "text/plain": [
              "               Regiao - Sigla Estado - Sigla   Municipio             Produto  \\\n",
              "Data da Coleta                                                                 \n",
              "2022-12-30                 SE             SP  PIRACICABA            GASOLINA   \n",
              "2022-12-30                  S             SC    BLUMENAU              ETANOL   \n",
              "2022-12-30                 SE             SP  PIRACICABA              DIESEL   \n",
              "2022-12-30                  S             SC    BLUMENAU          DIESEL S10   \n",
              "2022-12-30                  S             SC    BLUMENAU  GASOLINA ADITIVADA   \n",
              "\n",
              "                Valor de Venda Unidade de Medida       Bandeira  \n",
              "Data da Coleta                                                   \n",
              "2022-12-30                4.89             Litro         BRANCA  \n",
              "2022-12-30                4.29             Litro       IPIRANGA  \n",
              "2022-12-30                6.59             Litro         BRANCA  \n",
              "2022-12-30                6.28             Litro         BRANCA  \n",
              "2022-12-30                5.31             Litro  VIBRA ENERGIA  "
            ]
          },
          "execution_count": 9,
          "metadata": {},
          "output_type": "execute_result"
        }
      ],
      "source": [
        "# Vamos ver as 5 ultimas linhas\n",
        "amostra_df.tail()"
      ]
    },
    {
      "cell_type": "code",
      "execution_count": 12,
      "metadata": {},
      "outputs": [
        {
          "data": {
            "text/plain": [
              "(558435, 7)"
            ]
          },
          "execution_count": 12,
          "metadata": {},
          "output_type": "execute_result"
        }
      ],
      "source": [
        "# Chegando quantidade de linhas e colunas\n",
        "amostra_df.shape"
      ]
    },
    {
      "cell_type": "code",
      "execution_count": 10,
      "metadata": {},
      "outputs": [
        {
          "name": "stdout",
          "output_type": "stream",
          "text": [
            "<class 'pandas.core.frame.DataFrame'>\n",
            "DatetimeIndex: 558435 entries, 2012-01-02 to 2022-12-30\n",
            "Data columns (total 7 columns):\n",
            " #   Column             Non-Null Count   Dtype  \n",
            "---  ------             --------------   -----  \n",
            " 0   Regiao - Sigla     558435 non-null  object \n",
            " 1   Estado - Sigla     558435 non-null  object \n",
            " 2   Municipio          558435 non-null  object \n",
            " 3   Produto            558435 non-null  object \n",
            " 4   Valor de Venda     558435 non-null  float64\n",
            " 5   Unidade de Medida  558435 non-null  object \n",
            " 6   Bandeira           558435 non-null  object \n",
            "dtypes: float64(1), object(6)\n",
            "memory usage: 34.1+ MB\n"
          ]
        }
      ],
      "source": [
        "# Checando informações gerais da tabela\n",
        "amostra_df.info()"
      ]
    },
    {
      "cell_type": "markdown",
      "metadata": {},
      "source": [
        "Aqui temos varias informações como colunas, dados faltantes, tipos de dados, quantidade de linhas e colunas e finalmente o tamanho do arquivo"
      ]
    },
    {
      "cell_type": "markdown",
      "metadata": {},
      "source": [
        "## 4. Analise previa das amostras aleatórias"
      ]
    },
    {
      "cell_type": "code",
      "execution_count": 13,
      "metadata": {},
      "outputs": [
        {
          "name": "stdout",
          "output_type": "stream",
          "text": [
            "Data Mínima: 2012-01-02 00:00:00\n",
            "Data Máxima: 2022-12-30 00:00:00\n"
          ]
        }
      ],
      "source": [
        "# Verificando datas minimas e maximas da amostra coletada\n",
        "data_minima = amostra_df.index.min()\n",
        "data_maxima = amostra_df.index.max()\n",
        "\n",
        "print(\"Data Mínima:\", data_minima)\n",
        "print(\"Data Máxima:\", data_maxima)"
      ]
    },
    {
      "cell_type": "markdown",
      "metadata": {},
      "source": [
        "Ok, agora vamos analisar os dados do tipo \"object\" que basicamente são objetos do tipo texto"
      ]
    },
    {
      "cell_type": "code",
      "execution_count": 14,
      "metadata": {},
      "outputs": [
        {
          "data": {
            "text/html": [
              "<div>\n",
              "<style scoped>\n",
              "    .dataframe tbody tr th:only-of-type {\n",
              "        vertical-align: middle;\n",
              "    }\n",
              "\n",
              "    .dataframe tbody tr th {\n",
              "        vertical-align: top;\n",
              "    }\n",
              "\n",
              "    .dataframe thead th {\n",
              "        text-align: right;\n",
              "    }\n",
              "</style>\n",
              "<table border=\"1\" class=\"dataframe\">\n",
              "  <thead>\n",
              "    <tr style=\"text-align: right;\">\n",
              "      <th></th>\n",
              "      <th>Linhas</th>\n",
              "      <th>Unicos</th>\n",
              "      <th>Mais Repetido</th>\n",
              "      <th>Frequência</th>\n",
              "    </tr>\n",
              "    <tr>\n",
              "      <th>Coluna</th>\n",
              "      <th></th>\n",
              "      <th></th>\n",
              "      <th></th>\n",
              "      <th></th>\n",
              "    </tr>\n",
              "  </thead>\n",
              "  <tbody>\n",
              "    <tr>\n",
              "      <th>Regiao - Sigla</th>\n",
              "      <td>558.435</td>\n",
              "      <td>5</td>\n",
              "      <td>SE</td>\n",
              "      <td>273.467</td>\n",
              "    </tr>\n",
              "    <tr>\n",
              "      <th>Estado - Sigla</th>\n",
              "      <td>558.435</td>\n",
              "      <td>27</td>\n",
              "      <td>SP</td>\n",
              "      <td>156.431</td>\n",
              "    </tr>\n",
              "    <tr>\n",
              "      <th>Municipio</th>\n",
              "      <td>558.435</td>\n",
              "      <td>610</td>\n",
              "      <td>SAO PAULO</td>\n",
              "      <td>17.912</td>\n",
              "    </tr>\n",
              "    <tr>\n",
              "      <th>Produto</th>\n",
              "      <td>558.435</td>\n",
              "      <td>7</td>\n",
              "      <td>GASOLINA</td>\n",
              "      <td>170.877</td>\n",
              "    </tr>\n",
              "    <tr>\n",
              "      <th>Unidade de Medida</th>\n",
              "      <td>558.435</td>\n",
              "      <td>2</td>\n",
              "      <td>Litro</td>\n",
              "      <td>548.260</td>\n",
              "    </tr>\n",
              "    <tr>\n",
              "      <th>Bandeira</th>\n",
              "      <td>558.435</td>\n",
              "      <td>115</td>\n",
              "      <td>BRANCA</td>\n",
              "      <td>181.702</td>\n",
              "    </tr>\n",
              "  </tbody>\n",
              "</table>\n",
              "</div>"
            ],
            "text/plain": [
              "                    Linhas Unicos Mais Repetido Frequência\n",
              "Coluna                                                    \n",
              "Regiao - Sigla     558.435      5            SE    273.467\n",
              "Estado - Sigla     558.435     27            SP    156.431\n",
              "Municipio          558.435    610     SAO PAULO     17.912\n",
              "Produto            558.435      7      GASOLINA    170.877\n",
              "Unidade de Medida  558.435      2         Litro    548.260\n",
              "Bandeira           558.435    115        BRANCA    181.702"
            ]
          },
          "execution_count": 14,
          "metadata": {},
          "output_type": "execute_result"
        }
      ],
      "source": [
        "analise_objects = amostra_df.select_dtypes('object').describe().transpose()\n",
        "\n",
        "analise_objects.columns = ['Linhas', 'Unicos', 'Mais Repetido', 'Frequência']\n",
        "analise_objects = analise_objects.rename_axis('Coluna')\n",
        "\n",
        "def format_number_with_commas(number):\n",
        "    return '{:,.0f}'.format(number).replace(',', '.')\n",
        "\n",
        "columns_to_format = [col for col in analise_objects.columns if col not in ['Mais Repetido']]\n",
        "analise_objects[columns_to_format] = analise_objects[columns_to_format].applymap(format_number_with_commas)\n",
        "\n",
        "analise_objects"
      ]
    },
    {
      "cell_type": "markdown",
      "metadata": {},
      "source": [
        "Aqui já podemos tirar alguns insights iniciais sobre esses dados:\n",
        "* Podemos ver que a maior quantidade de vendas dos combustíveis foi na cidade de São Paulo.\n",
        "* Gasolina é o produto mais vendido entre todos os outros produtos.\n",
        "* Existem basicamente 2 tipos de medidas que são litros e m³ (Metros cúbicos), com o principal sendo o litro.\n",
        "* A principal bandeira é a Branca, o que significa que a grande maioria das vendas vem de postos de combustíveis privados.\n",
        "* Por último, os 27 estados estão presentes, sendo que o principal coletado é o estado de SP (São Paulo). Além disso, as 5 regiões do Brasil também estão representadas, com a principal ou mais coletada sendo a SE (Sudeste).\n"
      ]
    },
    {
      "cell_type": "markdown",
      "metadata": {},
      "source": [
        "Ok, vamos fazer o mesmo para as vendas ou dados numericos"
      ]
    },
    {
      "cell_type": "code",
      "execution_count": 16,
      "metadata": {},
      "outputs": [
        {
          "data": {
            "text/html": [
              "<div>\n",
              "<style scoped>\n",
              "    .dataframe tbody tr th:only-of-type {\n",
              "        vertical-align: middle;\n",
              "    }\n",
              "\n",
              "    .dataframe tbody tr th {\n",
              "        vertical-align: top;\n",
              "    }\n",
              "\n",
              "    .dataframe thead th {\n",
              "        text-align: right;\n",
              "    }\n",
              "</style>\n",
              "<table border=\"1\" class=\"dataframe\">\n",
              "  <thead>\n",
              "    <tr style=\"text-align: right;\">\n",
              "      <th></th>\n",
              "      <th>Linhas</th>\n",
              "      <th>Média</th>\n",
              "      <th>Variancia</th>\n",
              "      <th>Minimo</th>\n",
              "      <th>25%</th>\n",
              "      <th>50%</th>\n",
              "      <th>75%</th>\n",
              "      <th>Maximo</th>\n",
              "    </tr>\n",
              "    <tr>\n",
              "      <th>Coluna</th>\n",
              "      <th></th>\n",
              "      <th></th>\n",
              "      <th></th>\n",
              "      <th></th>\n",
              "      <th></th>\n",
              "      <th></th>\n",
              "      <th></th>\n",
              "      <th></th>\n",
              "    </tr>\n",
              "  </thead>\n",
              "  <tbody>\n",
              "    <tr>\n",
              "      <th>Valor de Venda</th>\n",
              "      <td>558435.0</td>\n",
              "      <td>3.419001</td>\n",
              "      <td>1.257043</td>\n",
              "      <td>1.199</td>\n",
              "      <td>2.579</td>\n",
              "      <td>3.09</td>\n",
              "      <td>3.89</td>\n",
              "      <td>9.0</td>\n",
              "    </tr>\n",
              "  </tbody>\n",
              "</table>\n",
              "</div>"
            ],
            "text/plain": [
              "                  Linhas     Média  Variancia  Minimo    25%   50%   75%  \\\n",
              "Coluna                                                                     \n",
              "Valor de Venda  558435.0  3.419001   1.257043   1.199  2.579  3.09  3.89   \n",
              "\n",
              "                Maximo  \n",
              "Coluna                  \n",
              "Valor de Venda     9.0  "
            ]
          },
          "execution_count": 16,
          "metadata": {},
          "output_type": "execute_result"
        }
      ],
      "source": [
        "# Analise dos dados do tipo float\n",
        "analise_floats = amostra_df.select_dtypes('float').describe().transpose()\n",
        "analise_floats.columns = ['Linhas', 'Média', 'Variancia', 'Minimo', '25%', '50%', '75%', 'Maximo']\n",
        "analise_floats = analise_floats.rename_axis('Coluna')\n",
        "\n",
        "analise_floats"
      ]
    },
    {
      "cell_type": "markdown",
      "metadata": {},
      "source": [
        "Aqui temos as vendas em resumo\n",
        "* Aqui temos a quantidade de Linhas em que existem dados dessa coluna (Todos)\n",
        "* Media das vendas entre 2012 á 2022\n",
        "* O \"Variancia\" é o desvio padrão, que é uma medida estatística que indica o grau de dispersão ou variabilidade de um conjunto de dados em relação à média.\n",
        "* Minimo, Maximo e as porcentagens são analise das grandezas dos numeros em relação a meédia."
      ]
    },
    {
      "cell_type": "markdown",
      "metadata": {},
      "source": [
        "## 5. Salvando tabelas para outras analises"
      ]
    },
    {
      "cell_type": "code",
      "execution_count": 18,
      "metadata": {},
      "outputs": [],
      "source": [
        "# Salvar tabelas\n",
        "if not os.path.exists(\"Tabelas\"):\n",
        "    os.makedirs(\"Tabelas\")\n",
        "\n",
        "amostra_df.to_csv('Tabelas/amostras_df.csv')\n",
        "analise_objects.to_csv('Tabelas/analise_objects.csv')\n",
        "analise_floats.to_csv('Tabelas/analise_floats.csv')"
      ]
    },
    {
      "cell_type": "markdown",
      "metadata": {},
      "source": [
        "### Continua em 2_Insights_amostra.ipynb..."
      ]
    }
  ],
  "metadata": {
    "colab": {
      "provenance": []
    },
    "kernelspec": {
      "display_name": ".venv",
      "language": "python",
      "name": "python3"
    },
    "language_info": {
      "codemirror_mode": {
        "name": "ipython",
        "version": 3
      },
      "file_extension": ".py",
      "mimetype": "text/x-python",
      "name": "python",
      "nbconvert_exporter": "python",
      "pygments_lexer": "ipython3",
      "version": "3.11.4"
    },
    "orig_nbformat": 4,
    "widgets": {
      "application/vnd.jupyter.widget-state+json": {
        "2cbabe88077a46c9aca826173e5ae10a": {
          "model_module": "@jupyter-widgets/controls",
          "model_module_version": "1.5.0",
          "model_name": "HTMLModel",
          "state": {
            "_dom_classes": [],
            "_model_module": "@jupyter-widgets/controls",
            "_model_module_version": "1.5.0",
            "_model_name": "HTMLModel",
            "_view_count": null,
            "_view_module": "@jupyter-widgets/controls",
            "_view_module_version": "1.5.0",
            "_view_name": "HTMLView",
            "description": "",
            "description_tooltip": null,
            "layout": "IPY_MODEL_3972db9ae34647918aff9dab3d805356",
            "placeholder": "​",
            "style": "IPY_MODEL_364aef66825c4c8b955247881d480f5d",
            "value": "Lendo arquivos CSV: 100%"
          }
        },
        "364aef66825c4c8b955247881d480f5d": {
          "model_module": "@jupyter-widgets/controls",
          "model_module_version": "1.5.0",
          "model_name": "DescriptionStyleModel",
          "state": {
            "_model_module": "@jupyter-widgets/controls",
            "_model_module_version": "1.5.0",
            "_model_name": "DescriptionStyleModel",
            "_view_count": null,
            "_view_module": "@jupyter-widgets/base",
            "_view_module_version": "1.2.0",
            "_view_name": "StyleView",
            "description_width": ""
          }
        },
        "3972db9ae34647918aff9dab3d805356": {
          "model_module": "@jupyter-widgets/base",
          "model_module_version": "1.2.0",
          "model_name": "LayoutModel",
          "state": {
            "_model_module": "@jupyter-widgets/base",
            "_model_module_version": "1.2.0",
            "_model_name": "LayoutModel",
            "_view_count": null,
            "_view_module": "@jupyter-widgets/base",
            "_view_module_version": "1.2.0",
            "_view_name": "LayoutView",
            "align_content": null,
            "align_items": null,
            "align_self": null,
            "border": null,
            "bottom": null,
            "display": null,
            "flex": null,
            "flex_flow": null,
            "grid_area": null,
            "grid_auto_columns": null,
            "grid_auto_flow": null,
            "grid_auto_rows": null,
            "grid_column": null,
            "grid_gap": null,
            "grid_row": null,
            "grid_template_areas": null,
            "grid_template_columns": null,
            "grid_template_rows": null,
            "height": null,
            "justify_content": null,
            "justify_items": null,
            "left": null,
            "margin": null,
            "max_height": null,
            "max_width": null,
            "min_height": null,
            "min_width": null,
            "object_fit": null,
            "object_position": null,
            "order": null,
            "overflow": null,
            "overflow_x": null,
            "overflow_y": null,
            "padding": null,
            "right": null,
            "top": null,
            "visibility": null,
            "width": null
          }
        },
        "608b8d2ff8fe459cbc796c3334117918": {
          "model_module": "@jupyter-widgets/controls",
          "model_module_version": "1.5.0",
          "model_name": "FloatProgressModel",
          "state": {
            "_dom_classes": [],
            "_model_module": "@jupyter-widgets/controls",
            "_model_module_version": "1.5.0",
            "_model_name": "FloatProgressModel",
            "_view_count": null,
            "_view_module": "@jupyter-widgets/controls",
            "_view_module_version": "1.5.0",
            "_view_name": "ProgressView",
            "bar_style": "success",
            "description": "",
            "description_tooltip": null,
            "layout": "IPY_MODEL_7697c062a78b439ca5af4d14995dd7a3",
            "max": 38,
            "min": 0,
            "orientation": "horizontal",
            "style": "IPY_MODEL_a2dc743f50b74210a94166dca891f3f0",
            "value": 38
          }
        },
        "63017aa71a184bc6b0473fc7d1903b3c": {
          "model_module": "@jupyter-widgets/controls",
          "model_module_version": "1.5.0",
          "model_name": "HBoxModel",
          "state": {
            "_dom_classes": [],
            "_model_module": "@jupyter-widgets/controls",
            "_model_module_version": "1.5.0",
            "_model_name": "HBoxModel",
            "_view_count": null,
            "_view_module": "@jupyter-widgets/controls",
            "_view_module_version": "1.5.0",
            "_view_name": "HBoxView",
            "box_style": "",
            "children": [
              "IPY_MODEL_2cbabe88077a46c9aca826173e5ae10a",
              "IPY_MODEL_608b8d2ff8fe459cbc796c3334117918",
              "IPY_MODEL_93a052ed38c84fbb963eb0af36807c0e"
            ],
            "layout": "IPY_MODEL_fb83d8a3320a4e2d9479e75e38755552"
          }
        },
        "7697c062a78b439ca5af4d14995dd7a3": {
          "model_module": "@jupyter-widgets/base",
          "model_module_version": "1.2.0",
          "model_name": "LayoutModel",
          "state": {
            "_model_module": "@jupyter-widgets/base",
            "_model_module_version": "1.2.0",
            "_model_name": "LayoutModel",
            "_view_count": null,
            "_view_module": "@jupyter-widgets/base",
            "_view_module_version": "1.2.0",
            "_view_name": "LayoutView",
            "align_content": null,
            "align_items": null,
            "align_self": null,
            "border": null,
            "bottom": null,
            "display": null,
            "flex": null,
            "flex_flow": null,
            "grid_area": null,
            "grid_auto_columns": null,
            "grid_auto_flow": null,
            "grid_auto_rows": null,
            "grid_column": null,
            "grid_gap": null,
            "grid_row": null,
            "grid_template_areas": null,
            "grid_template_columns": null,
            "grid_template_rows": null,
            "height": null,
            "justify_content": null,
            "justify_items": null,
            "left": null,
            "margin": null,
            "max_height": null,
            "max_width": null,
            "min_height": null,
            "min_width": null,
            "object_fit": null,
            "object_position": null,
            "order": null,
            "overflow": null,
            "overflow_x": null,
            "overflow_y": null,
            "padding": null,
            "right": null,
            "top": null,
            "visibility": null,
            "width": null
          }
        },
        "9223cad21c784433bf663bfba67f9967": {
          "model_module": "@jupyter-widgets/controls",
          "model_module_version": "1.5.0",
          "model_name": "DescriptionStyleModel",
          "state": {
            "_model_module": "@jupyter-widgets/controls",
            "_model_module_version": "1.5.0",
            "_model_name": "DescriptionStyleModel",
            "_view_count": null,
            "_view_module": "@jupyter-widgets/base",
            "_view_module_version": "1.2.0",
            "_view_name": "StyleView",
            "description_width": ""
          }
        },
        "93a052ed38c84fbb963eb0af36807c0e": {
          "model_module": "@jupyter-widgets/controls",
          "model_module_version": "1.5.0",
          "model_name": "HTMLModel",
          "state": {
            "_dom_classes": [],
            "_model_module": "@jupyter-widgets/controls",
            "_model_module_version": "1.5.0",
            "_model_name": "HTMLModel",
            "_view_count": null,
            "_view_module": "@jupyter-widgets/controls",
            "_view_module_version": "1.5.0",
            "_view_name": "HTMLView",
            "description": "",
            "description_tooltip": null,
            "layout": "IPY_MODEL_faea059263f54e2baaba776e6b654ef4",
            "placeholder": "​",
            "style": "IPY_MODEL_9223cad21c784433bf663bfba67f9967",
            "value": " 38/38 [01:49&lt;00:00,  3.04s/it]"
          }
        },
        "a2dc743f50b74210a94166dca891f3f0": {
          "model_module": "@jupyter-widgets/controls",
          "model_module_version": "1.5.0",
          "model_name": "ProgressStyleModel",
          "state": {
            "_model_module": "@jupyter-widgets/controls",
            "_model_module_version": "1.5.0",
            "_model_name": "ProgressStyleModel",
            "_view_count": null,
            "_view_module": "@jupyter-widgets/base",
            "_view_module_version": "1.2.0",
            "_view_name": "StyleView",
            "bar_color": null,
            "description_width": ""
          }
        },
        "faea059263f54e2baaba776e6b654ef4": {
          "model_module": "@jupyter-widgets/base",
          "model_module_version": "1.2.0",
          "model_name": "LayoutModel",
          "state": {
            "_model_module": "@jupyter-widgets/base",
            "_model_module_version": "1.2.0",
            "_model_name": "LayoutModel",
            "_view_count": null,
            "_view_module": "@jupyter-widgets/base",
            "_view_module_version": "1.2.0",
            "_view_name": "LayoutView",
            "align_content": null,
            "align_items": null,
            "align_self": null,
            "border": null,
            "bottom": null,
            "display": null,
            "flex": null,
            "flex_flow": null,
            "grid_area": null,
            "grid_auto_columns": null,
            "grid_auto_flow": null,
            "grid_auto_rows": null,
            "grid_column": null,
            "grid_gap": null,
            "grid_row": null,
            "grid_template_areas": null,
            "grid_template_columns": null,
            "grid_template_rows": null,
            "height": null,
            "justify_content": null,
            "justify_items": null,
            "left": null,
            "margin": null,
            "max_height": null,
            "max_width": null,
            "min_height": null,
            "min_width": null,
            "object_fit": null,
            "object_position": null,
            "order": null,
            "overflow": null,
            "overflow_x": null,
            "overflow_y": null,
            "padding": null,
            "right": null,
            "top": null,
            "visibility": null,
            "width": null
          }
        },
        "fb83d8a3320a4e2d9479e75e38755552": {
          "model_module": "@jupyter-widgets/base",
          "model_module_version": "1.2.0",
          "model_name": "LayoutModel",
          "state": {
            "_model_module": "@jupyter-widgets/base",
            "_model_module_version": "1.2.0",
            "_model_name": "LayoutModel",
            "_view_count": null,
            "_view_module": "@jupyter-widgets/base",
            "_view_module_version": "1.2.0",
            "_view_name": "LayoutView",
            "align_content": null,
            "align_items": null,
            "align_self": null,
            "border": null,
            "bottom": null,
            "display": null,
            "flex": null,
            "flex_flow": null,
            "grid_area": null,
            "grid_auto_columns": null,
            "grid_auto_flow": null,
            "grid_auto_rows": null,
            "grid_column": null,
            "grid_gap": null,
            "grid_row": null,
            "grid_template_areas": null,
            "grid_template_columns": null,
            "grid_template_rows": null,
            "height": null,
            "justify_content": null,
            "justify_items": null,
            "left": null,
            "margin": null,
            "max_height": null,
            "max_width": null,
            "min_height": null,
            "min_width": null,
            "object_fit": null,
            "object_position": null,
            "order": null,
            "overflow": null,
            "overflow_x": null,
            "overflow_y": null,
            "padding": null,
            "right": null,
            "top": null,
            "visibility": null,
            "width": null
          }
        }
      }
    }
  },
  "nbformat": 4,
  "nbformat_minor": 0
}
