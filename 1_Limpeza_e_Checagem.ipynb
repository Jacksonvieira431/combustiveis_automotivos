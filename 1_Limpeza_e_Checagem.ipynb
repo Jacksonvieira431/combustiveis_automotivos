{
  "cells": [
    {
      "cell_type": "code",
      "execution_count": null,
      "metadata": {},
      "outputs": [],
      "source": [
        "import pandas as pd\n",
        "from funções.amostras import gerar_amostra\n",
        "from funções.descompactando import descompactando\n",
        "import os\n",
        "from openpyxl import Workbook"
      ]
    },
    {
      "cell_type": "markdown",
      "metadata": {},
      "source": [
        " A função a seguir aborda várias etapas, incluindo a extração de arquivos RAR, leitura e processamento de arquivos CSV, manipulação de dados, limpeza, consolidação em um único DataFrame e os salvando em combustiveis.csv\n",
        "\n",
        " Você pode encontrar essa função sendo definida em Funções/descompactando.py"
      ]
    },
    {
      "cell_type": "code",
      "execution_count": null,
      "metadata": {},
      "outputs": [
        {
          "name": "stdout",
          "output_type": "stream",
          "text": [
            "patool: Extracting C:/Users/jacks/OneDrive/Projetos/combustiveis_automotivos/Combustíveis Automotivos-2012-a-2022.rar ...\n",
            "patool: running \"C:\\Program Files\\WinRAR\\rar.EXE\" x -- \"C:\\Users\\jacks\\OneDrive\\Projetos\\combustiveis_automotivos\\Combustíveis Automotivos-2012-a-2022.rar\"\n",
            "patool:     with cwd=C:/Users/jacks/OneDrive/Projetos/combustiveis_automotivos/arquivos-extraidos/\n",
            "patool: ... C:/Users/jacks/OneDrive/Projetos/combustiveis_automotivos/Combustíveis Automotivos-2012-a-2022.rar extracted to `C:/Users/jacks/OneDrive/Projetos/combustiveis_automotivos/arquivos-extraidos/'.\n",
            "22 arquivos CSV extraídos e listados:\n",
            "['C:/Users/jacks/OneDrive/Projetos/combustiveis_automotivos/arquivos-extraidos/ca-2012-01.csv', 'C:/Users/jacks/OneDrive/Projetos/combustiveis_automotivos/arquivos-extraidos/ca-2012-02.csv', 'C:/Users/jacks/OneDrive/Projetos/combustiveis_automotivos/arquivos-extraidos/ca-2013-01.csv', 'C:/Users/jacks/OneDrive/Projetos/combustiveis_automotivos/arquivos-extraidos/ca-2013-02.csv', 'C:/Users/jacks/OneDrive/Projetos/combustiveis_automotivos/arquivos-extraidos/ca-2014-01.csv', 'C:/Users/jacks/OneDrive/Projetos/combustiveis_automotivos/arquivos-extraidos/ca-2014-02.csv', 'C:/Users/jacks/OneDrive/Projetos/combustiveis_automotivos/arquivos-extraidos/ca-2015-01.csv', 'C:/Users/jacks/OneDrive/Projetos/combustiveis_automotivos/arquivos-extraidos/ca-2015-02.csv', 'C:/Users/jacks/OneDrive/Projetos/combustiveis_automotivos/arquivos-extraidos/ca-2016-01.csv', 'C:/Users/jacks/OneDrive/Projetos/combustiveis_automotivos/arquivos-extraidos/ca-2016-02.csv', 'C:/Users/jacks/OneDrive/Projetos/combustiveis_automotivos/arquivos-extraidos/ca-2017-01.csv', 'C:/Users/jacks/OneDrive/Projetos/combustiveis_automotivos/arquivos-extraidos/ca-2017-02.csv', 'C:/Users/jacks/OneDrive/Projetos/combustiveis_automotivos/arquivos-extraidos/ca-2018-01.csv', 'C:/Users/jacks/OneDrive/Projetos/combustiveis_automotivos/arquivos-extraidos/ca-2018-02.csv', 'C:/Users/jacks/OneDrive/Projetos/combustiveis_automotivos/arquivos-extraidos/ca-2019-01.csv', 'C:/Users/jacks/OneDrive/Projetos/combustiveis_automotivos/arquivos-extraidos/ca-2019-02.csv', 'C:/Users/jacks/OneDrive/Projetos/combustiveis_automotivos/arquivos-extraidos/ca-2020-01.csv', 'C:/Users/jacks/OneDrive/Projetos/combustiveis_automotivos/arquivos-extraidos/ca-2020-02.csv', 'C:/Users/jacks/OneDrive/Projetos/combustiveis_automotivos/arquivos-extraidos/ca-2021-01.csv', 'C:/Users/jacks/OneDrive/Projetos/combustiveis_automotivos/arquivos-extraidos/ca-2021-02.csv', 'C:/Users/jacks/OneDrive/Projetos/combustiveis_automotivos/arquivos-extraidos/ca-2022-01.csv', 'C:/Users/jacks/OneDrive/Projetos/combustiveis_automotivos/arquivos-extraidos/ca-2022-02.csv']\n"
          ]
        },
        {
          "name": "stderr",
          "output_type": "stream",
          "text": [
            "Lendo e processando arquivos CSV:  77%|███████▋  | 17/22 [02:14<00:36,  7.20s/it]c:\\Users\\jacks\\OneDrive\\Projetos\\combustiveis_automotivos\\funções\\descompactando.py:38: DtypeWarning: Columns (13) have mixed types. Specify dtype option on import or set low_memory=False.\n",
            "  df = pd.read_csv(csv_path, sep=';', encoding=encoding, parse_dates=['Data da Coleta'])\n",
            "Lendo e processando arquivos CSV:  86%|████████▋ | 19/22 [02:22<00:17,  5.82s/it]"
          ]
        },
        {
          "name": "stdout",
          "output_type": "stream",
          "text": [
            "Tentando codificação utf-8 para o arquivo C:/Users/jacks/OneDrive/Projetos/combustiveis_automotivos/arquivos-extraidos/ca-2021-02.csv - Erro: 'utf-8' codec can't decode byte 0xd3 in position 34: invalid continuation byte\n"
          ]
        },
        {
          "name": "stderr",
          "output_type": "stream",
          "text": [
            "Lendo e processando arquivos CSV: 100%|██████████| 22/22 [02:44<00:00,  7.47s/it]\n"
          ]
        }
      ],
      "source": [
        "descompactando()"
      ]
    },
    {
      "cell_type": "markdown",
      "metadata": {},
      "source": [
        "Essa Função a seguir realiza várias etapas relacionadas à manipulação e análise de dados de combustíveis automotivos em um arquivo CSV. Essencialmente, essa função lê um arquivo CSV contendo dados de combustíveis automotivos, tenta diferentes encodings para leitura, seleciona uma amostra aleatória dos dados e retorna essa amostra como um DataFrame. é possivel fazer essa analise com varias amostras.\n",
        "\n",
        "Você pode encontrar essa função sendo definida em Funções/amostras.py"
      ]
    },
    {
      "cell_type": "code",
      "execution_count": 8,
      "metadata": {},
      "outputs": [],
      "source": [
        "# Lembre-se de que 1% do arquivo dará 111.687 linhas o que dará 6.8 MBs\n",
        "\n",
        "tamanho_da_amostra_em_porcentagem = 15\n",
        "amostra_df = gerar_amostra(tamanho_da_amostra_em_porcentagem)\n",
        "\n",
        "amostra_df = amostra_df.sort_values(by='Data da Coleta')"
      ]
    },
    {
      "cell_type": "code",
      "execution_count": 9,
      "metadata": {},
      "outputs": [
        {
          "data": {
            "text/html": [
              "<div>\n",
              "<style scoped>\n",
              "    .dataframe tbody tr th:only-of-type {\n",
              "        vertical-align: middle;\n",
              "    }\n",
              "\n",
              "    .dataframe tbody tr th {\n",
              "        vertical-align: top;\n",
              "    }\n",
              "\n",
              "    .dataframe thead th {\n",
              "        text-align: right;\n",
              "    }\n",
              "</style>\n",
              "<table border=\"1\" class=\"dataframe\">\n",
              "  <thead>\n",
              "    <tr style=\"text-align: right;\">\n",
              "      <th></th>\n",
              "      <th>Regiao - Sigla</th>\n",
              "      <th>Estado - Sigla</th>\n",
              "      <th>Municipio</th>\n",
              "      <th>Produto</th>\n",
              "      <th>Valor de Venda</th>\n",
              "      <th>Unidade de Medida</th>\n",
              "      <th>Bandeira</th>\n",
              "    </tr>\n",
              "    <tr>\n",
              "      <th>Data da Coleta</th>\n",
              "      <th></th>\n",
              "      <th></th>\n",
              "      <th></th>\n",
              "      <th></th>\n",
              "      <th></th>\n",
              "      <th></th>\n",
              "      <th></th>\n",
              "    </tr>\n",
              "  </thead>\n",
              "  <tbody>\n",
              "    <tr>\n",
              "      <th>2012-01-02</th>\n",
              "      <td>S</td>\n",
              "      <td>RS</td>\n",
              "      <td>TRAMANDAI</td>\n",
              "      <td>ETANOL</td>\n",
              "      <td>2.499</td>\n",
              "      <td>Litro</td>\n",
              "      <td>IPIRANGA</td>\n",
              "    </tr>\n",
              "    <tr>\n",
              "      <th>2012-01-02</th>\n",
              "      <td>S</td>\n",
              "      <td>RS</td>\n",
              "      <td>NOVO HAMBURGO</td>\n",
              "      <td>DIESEL</td>\n",
              "      <td>2.049</td>\n",
              "      <td>Litro</td>\n",
              "      <td>PETROBRAS DISTRIBUIDORA S.A.</td>\n",
              "    </tr>\n",
              "    <tr>\n",
              "      <th>2012-01-02</th>\n",
              "      <td>SE</td>\n",
              "      <td>SP</td>\n",
              "      <td>TUPA</td>\n",
              "      <td>GASOLINA</td>\n",
              "      <td>2.790</td>\n",
              "      <td>Litro</td>\n",
              "      <td>RAIZEN</td>\n",
              "    </tr>\n",
              "    <tr>\n",
              "      <th>2012-01-02</th>\n",
              "      <td>SE</td>\n",
              "      <td>SP</td>\n",
              "      <td>ARARAQUARA</td>\n",
              "      <td>GASOLINA</td>\n",
              "      <td>2.529</td>\n",
              "      <td>Litro</td>\n",
              "      <td>BRANCA</td>\n",
              "    </tr>\n",
              "    <tr>\n",
              "      <th>2012-01-02</th>\n",
              "      <td>NE</td>\n",
              "      <td>BA</td>\n",
              "      <td>CAMACARI</td>\n",
              "      <td>DIESEL</td>\n",
              "      <td>1.980</td>\n",
              "      <td>Litro</td>\n",
              "      <td>RAIZEN</td>\n",
              "    </tr>\n",
              "  </tbody>\n",
              "</table>\n",
              "</div>"
            ],
            "text/plain": [
              "               Regiao - Sigla Estado - Sigla      Municipio   Produto  \\\n",
              "Data da Coleta                                                          \n",
              "2012-01-02                  S             RS      TRAMANDAI    ETANOL   \n",
              "2012-01-02                  S             RS  NOVO HAMBURGO    DIESEL   \n",
              "2012-01-02                 SE             SP           TUPA  GASOLINA   \n",
              "2012-01-02                 SE             SP     ARARAQUARA  GASOLINA   \n",
              "2012-01-02                 NE             BA       CAMACARI    DIESEL   \n",
              "\n",
              "                Valor de Venda Unidade de Medida                      Bandeira  \n",
              "Data da Coleta                                                                  \n",
              "2012-01-02               2.499             Litro                      IPIRANGA  \n",
              "2012-01-02               2.049             Litro  PETROBRAS DISTRIBUIDORA S.A.  \n",
              "2012-01-02               2.790             Litro                        RAIZEN  \n",
              "2012-01-02               2.529             Litro                        BRANCA  \n",
              "2012-01-02               1.980             Litro                        RAIZEN  "
            ]
          },
          "execution_count": 9,
          "metadata": {},
          "output_type": "execute_result"
        }
      ],
      "source": [
        "amostra_df.head()"
      ]
    },
    {
      "cell_type": "markdown",
      "metadata": {},
      "source": [
        "Checagem"
      ]
    },
    {
      "cell_type": "code",
      "execution_count": 10,
      "metadata": {},
      "outputs": [],
      "source": [
        "indices = set(amostra_df.index.tolist())\n",
        "# display(indices)"
      ]
    },
    {
      "cell_type": "code",
      "execution_count": 11,
      "metadata": {},
      "outputs": [
        {
          "name": "stdout",
          "output_type": "stream",
          "text": [
            "A lista de índices contém ambos os formatos de datas.(Precisa de Tratamento)\n"
          ]
        }
      ],
      "source": [
        "formato_dia_mes_ano = \"%d/%m/%Y\"\n",
        "formato_ano_mes_dia = \"%Y-%m-%d\"\n",
        "\n",
        "tem_formato_dia_mes_ano = False\n",
        "tem_formato_ano_mes_dia = False\n",
        "\n",
        "for indice in indices:\n",
        "    try:\n",
        "        pd.to_datetime(indice, format=formato_dia_mes_ano)\n",
        "        tem_formato_dia_mes_ano = True\n",
        "    except ValueError:\n",
        "        pass\n",
        "\n",
        "    try:\n",
        "        pd.to_datetime(indice, format=formato_ano_mes_dia)\n",
        "        tem_formato_ano_mes_dia = True\n",
        "    except ValueError:\n",
        "        pass\n",
        "\n",
        "if tem_formato_dia_mes_ano and tem_formato_ano_mes_dia:\n",
        "     print(\"A lista de índices contém ambos os formatos de datas.(Precisa de Tratamento)\")\n",
        "else:\n",
        "    print(\"A lista de índices não contém ambos os formatos de datas.(Tudo OK)\")"
      ]
    },
    {
      "cell_type": "code",
      "execution_count": 12,
      "metadata": {},
      "outputs": [
        {
          "name": "stdout",
          "output_type": "stream",
          "text": [
            "<class 'pandas.core.frame.DataFrame'>\n",
            "DatetimeIndex: 1675306 entries, 2012-01-02 to 2022-12-30\n",
            "Data columns (total 7 columns):\n",
            " #   Column             Non-Null Count    Dtype  \n",
            "---  ------             --------------    -----  \n",
            " 0   Regiao - Sigla     1675306 non-null  object \n",
            " 1   Estado - Sigla     1675306 non-null  object \n",
            " 2   Municipio          1675306 non-null  object \n",
            " 3   Produto            1675306 non-null  object \n",
            " 4   Valor de Venda     1675306 non-null  float64\n",
            " 5   Unidade de Medida  1675306 non-null  object \n",
            " 6   Bandeira           1675306 non-null  object \n",
            "dtypes: float64(1), object(6)\n",
            "memory usage: 102.3+ MB\n"
          ]
        }
      ],
      "source": [
        "amostra_df.info()"
      ]
    },
    {
      "cell_type": "code",
      "execution_count": 13,
      "metadata": {},
      "outputs": [
        {
          "data": {
            "text/plain": [
              "(1675306, 7)"
            ]
          },
          "execution_count": 13,
          "metadata": {},
          "output_type": "execute_result"
        }
      ],
      "source": [
        "amostra_df.shape"
      ]
    },
    {
      "cell_type": "code",
      "execution_count": 14,
      "metadata": {},
      "outputs": [
        {
          "data": {
            "text/plain": [
              "Regiao - Sigla       0\n",
              "Estado - Sigla       0\n",
              "Municipio            0\n",
              "Produto              0\n",
              "Valor de Venda       0\n",
              "Unidade de Medida    0\n",
              "Bandeira             0\n",
              "dtype: int64"
            ]
          },
          "execution_count": 14,
          "metadata": {},
          "output_type": "execute_result"
        }
      ],
      "source": [
        "amostra_df.isnull().sum()"
      ]
    },
    {
      "cell_type": "markdown",
      "metadata": {},
      "source": [
        "Analise previa das amostras aleatorias"
      ]
    },
    {
      "cell_type": "code",
      "execution_count": 15,
      "metadata": {},
      "outputs": [
        {
          "name": "stdout",
          "output_type": "stream",
          "text": [
            "Data Mínima: 2012-01-02 00:00:00\n",
            "Data Máxima: 2022-12-30 00:00:00\n"
          ]
        }
      ],
      "source": [
        "data_minima = amostra_df.index.min()\n",
        "data_maxima = amostra_df.index.max()\n",
        "\n",
        "print(\"Data Mínima:\", data_minima)\n",
        "print(\"Data Máxima:\", data_maxima)"
      ]
    },
    {
      "cell_type": "code",
      "execution_count": 16,
      "metadata": {},
      "outputs": [
        {
          "data": {
            "text/html": [
              "<div>\n",
              "<style scoped>\n",
              "    .dataframe tbody tr th:only-of-type {\n",
              "        vertical-align: middle;\n",
              "    }\n",
              "\n",
              "    .dataframe tbody tr th {\n",
              "        vertical-align: top;\n",
              "    }\n",
              "\n",
              "    .dataframe thead th {\n",
              "        text-align: right;\n",
              "    }\n",
              "</style>\n",
              "<table border=\"1\" class=\"dataframe\">\n",
              "  <thead>\n",
              "    <tr style=\"text-align: right;\">\n",
              "      <th></th>\n",
              "      <th>Linhas</th>\n",
              "      <th>Unicos</th>\n",
              "      <th>Mais Repetido</th>\n",
              "      <th>Frequência</th>\n",
              "    </tr>\n",
              "    <tr>\n",
              "      <th>Coluna</th>\n",
              "      <th></th>\n",
              "      <th></th>\n",
              "      <th></th>\n",
              "      <th></th>\n",
              "    </tr>\n",
              "  </thead>\n",
              "  <tbody>\n",
              "    <tr>\n",
              "      <th>Regiao - Sigla</th>\n",
              "      <td>1.675.306</td>\n",
              "      <td>5</td>\n",
              "      <td>SE</td>\n",
              "      <td>819.410</td>\n",
              "    </tr>\n",
              "    <tr>\n",
              "      <th>Estado - Sigla</th>\n",
              "      <td>1.675.306</td>\n",
              "      <td>27</td>\n",
              "      <td>SP</td>\n",
              "      <td>470.686</td>\n",
              "    </tr>\n",
              "    <tr>\n",
              "      <th>Municipio</th>\n",
              "      <td>1.675.306</td>\n",
              "      <td>614</td>\n",
              "      <td>SAO PAULO</td>\n",
              "      <td>53.918</td>\n",
              "    </tr>\n",
              "    <tr>\n",
              "      <th>Produto</th>\n",
              "      <td>1.675.306</td>\n",
              "      <td>7</td>\n",
              "      <td>GASOLINA</td>\n",
              "      <td>512.109</td>\n",
              "    </tr>\n",
              "    <tr>\n",
              "      <th>Unidade de Medida</th>\n",
              "      <td>1.675.306</td>\n",
              "      <td>2</td>\n",
              "      <td>Litro</td>\n",
              "      <td>1.644.790</td>\n",
              "    </tr>\n",
              "    <tr>\n",
              "      <th>Bandeira</th>\n",
              "      <td>1.675.306</td>\n",
              "      <td>123</td>\n",
              "      <td>BRANCA</td>\n",
              "      <td>545.669</td>\n",
              "    </tr>\n",
              "  </tbody>\n",
              "</table>\n",
              "</div>"
            ],
            "text/plain": [
              "                      Linhas Unicos Mais Repetido Frequência\n",
              "Coluna                                                      \n",
              "Regiao - Sigla     1.675.306      5            SE    819.410\n",
              "Estado - Sigla     1.675.306     27            SP    470.686\n",
              "Municipio          1.675.306    614     SAO PAULO     53.918\n",
              "Produto            1.675.306      7      GASOLINA    512.109\n",
              "Unidade de Medida  1.675.306      2         Litro  1.644.790\n",
              "Bandeira           1.675.306    123        BRANCA    545.669"
            ]
          },
          "execution_count": 16,
          "metadata": {},
          "output_type": "execute_result"
        }
      ],
      "source": [
        "analise_objects = amostra_df.select_dtypes('object').describe().transpose()\n",
        "\n",
        "analise_objects.columns = ['Linhas', 'Unicos', 'Mais Repetido', 'Frequência']\n",
        "analise_objects = analise_objects.rename_axis('Coluna')\n",
        "\n",
        "def format_number_with_commas(number):\n",
        "    return '{:,.0f}'.format(number).replace(',', '.')\n",
        "\n",
        "columns_to_format = [col for col in analise_objects.columns if col not in ['Mais Repetido']]\n",
        "analise_objects[columns_to_format] = analise_objects[columns_to_format].applymap(format_number_with_commas)\n",
        "\n",
        "analise_objects"
      ]
    },
    {
      "cell_type": "code",
      "execution_count": 17,
      "metadata": {},
      "outputs": [
        {
          "data": {
            "text/html": [
              "<div>\n",
              "<style scoped>\n",
              "    .dataframe tbody tr th:only-of-type {\n",
              "        vertical-align: middle;\n",
              "    }\n",
              "\n",
              "    .dataframe tbody tr th {\n",
              "        vertical-align: top;\n",
              "    }\n",
              "\n",
              "    .dataframe thead th {\n",
              "        text-align: right;\n",
              "    }\n",
              "</style>\n",
              "<table border=\"1\" class=\"dataframe\">\n",
              "  <thead>\n",
              "    <tr style=\"text-align: right;\">\n",
              "      <th></th>\n",
              "      <th>Linhas</th>\n",
              "      <th>Média</th>\n",
              "      <th>Variancia</th>\n",
              "      <th>Minimo</th>\n",
              "      <th>25%</th>\n",
              "      <th>50%</th>\n",
              "      <th>75%</th>\n",
              "      <th>Maximo</th>\n",
              "    </tr>\n",
              "    <tr>\n",
              "      <th>Coluna</th>\n",
              "      <th></th>\n",
              "      <th></th>\n",
              "      <th></th>\n",
              "      <th></th>\n",
              "      <th></th>\n",
              "      <th></th>\n",
              "      <th></th>\n",
              "      <th></th>\n",
              "    </tr>\n",
              "  </thead>\n",
              "  <tbody>\n",
              "    <tr>\n",
              "      <th>Valor de Venda</th>\n",
              "      <td>1675306.0</td>\n",
              "      <td>3.418244</td>\n",
              "      <td>1.258213</td>\n",
              "      <td>1.189</td>\n",
              "      <td>2.579</td>\n",
              "      <td>3.09</td>\n",
              "      <td>3.89</td>\n",
              "      <td>9.65</td>\n",
              "    </tr>\n",
              "  </tbody>\n",
              "</table>\n",
              "</div>"
            ],
            "text/plain": [
              "                   Linhas     Média  Variancia  Minimo    25%   50%   75%  \\\n",
              "Coluna                                                                      \n",
              "Valor de Venda  1675306.0  3.418244   1.258213   1.189  2.579  3.09  3.89   \n",
              "\n",
              "                Maximo  \n",
              "Coluna                  \n",
              "Valor de Venda    9.65  "
            ]
          },
          "execution_count": 17,
          "metadata": {},
          "output_type": "execute_result"
        }
      ],
      "source": [
        "analise_floats = amostra_df.select_dtypes('float').describe().transpose()\n",
        "analise_floats.columns = ['Linhas', 'Média', 'Variancia', 'Minimo', '25%', '50%', '75%', 'Maximo']\n",
        "analise_floats = analise_floats.rename_axis('Coluna')\n",
        "\n",
        "analise_floats"
      ]
    },
    {
      "cell_type": "code",
      "execution_count": 18,
      "metadata": {},
      "outputs": [],
      "source": [
        "if not os.path.exists(\"Tabelas\"):\n",
        "    os.makedirs(\"Tabelas\")\n",
        "\n",
        "amostra_df.to_csv('Tabelas/amostras_df.csv')\n",
        "analise_objects.to_csv('Tabelas/analise_objects.csv')\n",
        "analise_floats.to_csv('Tabelas/analise_floats.csv')"
      ]
    }
  ],
  "metadata": {
    "colab": {
      "provenance": []
    },
    "kernelspec": {
      "display_name": ".venv",
      "language": "python",
      "name": "python3"
    },
    "language_info": {
      "codemirror_mode": {
        "name": "ipython",
        "version": 3
      },
      "file_extension": ".py",
      "mimetype": "text/x-python",
      "name": "python",
      "nbconvert_exporter": "python",
      "pygments_lexer": "ipython3",
      "version": "3.11.4"
    },
    "orig_nbformat": 4,
    "widgets": {
      "application/vnd.jupyter.widget-state+json": {
        "2cbabe88077a46c9aca826173e5ae10a": {
          "model_module": "@jupyter-widgets/controls",
          "model_module_version": "1.5.0",
          "model_name": "HTMLModel",
          "state": {
            "_dom_classes": [],
            "_model_module": "@jupyter-widgets/controls",
            "_model_module_version": "1.5.0",
            "_model_name": "HTMLModel",
            "_view_count": null,
            "_view_module": "@jupyter-widgets/controls",
            "_view_module_version": "1.5.0",
            "_view_name": "HTMLView",
            "description": "",
            "description_tooltip": null,
            "layout": "IPY_MODEL_3972db9ae34647918aff9dab3d805356",
            "placeholder": "​",
            "style": "IPY_MODEL_364aef66825c4c8b955247881d480f5d",
            "value": "Lendo arquivos CSV: 100%"
          }
        },
        "364aef66825c4c8b955247881d480f5d": {
          "model_module": "@jupyter-widgets/controls",
          "model_module_version": "1.5.0",
          "model_name": "DescriptionStyleModel",
          "state": {
            "_model_module": "@jupyter-widgets/controls",
            "_model_module_version": "1.5.0",
            "_model_name": "DescriptionStyleModel",
            "_view_count": null,
            "_view_module": "@jupyter-widgets/base",
            "_view_module_version": "1.2.0",
            "_view_name": "StyleView",
            "description_width": ""
          }
        },
        "3972db9ae34647918aff9dab3d805356": {
          "model_module": "@jupyter-widgets/base",
          "model_module_version": "1.2.0",
          "model_name": "LayoutModel",
          "state": {
            "_model_module": "@jupyter-widgets/base",
            "_model_module_version": "1.2.0",
            "_model_name": "LayoutModel",
            "_view_count": null,
            "_view_module": "@jupyter-widgets/base",
            "_view_module_version": "1.2.0",
            "_view_name": "LayoutView",
            "align_content": null,
            "align_items": null,
            "align_self": null,
            "border": null,
            "bottom": null,
            "display": null,
            "flex": null,
            "flex_flow": null,
            "grid_area": null,
            "grid_auto_columns": null,
            "grid_auto_flow": null,
            "grid_auto_rows": null,
            "grid_column": null,
            "grid_gap": null,
            "grid_row": null,
            "grid_template_areas": null,
            "grid_template_columns": null,
            "grid_template_rows": null,
            "height": null,
            "justify_content": null,
            "justify_items": null,
            "left": null,
            "margin": null,
            "max_height": null,
            "max_width": null,
            "min_height": null,
            "min_width": null,
            "object_fit": null,
            "object_position": null,
            "order": null,
            "overflow": null,
            "overflow_x": null,
            "overflow_y": null,
            "padding": null,
            "right": null,
            "top": null,
            "visibility": null,
            "width": null
          }
        },
        "608b8d2ff8fe459cbc796c3334117918": {
          "model_module": "@jupyter-widgets/controls",
          "model_module_version": "1.5.0",
          "model_name": "FloatProgressModel",
          "state": {
            "_dom_classes": [],
            "_model_module": "@jupyter-widgets/controls",
            "_model_module_version": "1.5.0",
            "_model_name": "FloatProgressModel",
            "_view_count": null,
            "_view_module": "@jupyter-widgets/controls",
            "_view_module_version": "1.5.0",
            "_view_name": "ProgressView",
            "bar_style": "success",
            "description": "",
            "description_tooltip": null,
            "layout": "IPY_MODEL_7697c062a78b439ca5af4d14995dd7a3",
            "max": 38,
            "min": 0,
            "orientation": "horizontal",
            "style": "IPY_MODEL_a2dc743f50b74210a94166dca891f3f0",
            "value": 38
          }
        },
        "63017aa71a184bc6b0473fc7d1903b3c": {
          "model_module": "@jupyter-widgets/controls",
          "model_module_version": "1.5.0",
          "model_name": "HBoxModel",
          "state": {
            "_dom_classes": [],
            "_model_module": "@jupyter-widgets/controls",
            "_model_module_version": "1.5.0",
            "_model_name": "HBoxModel",
            "_view_count": null,
            "_view_module": "@jupyter-widgets/controls",
            "_view_module_version": "1.5.0",
            "_view_name": "HBoxView",
            "box_style": "",
            "children": [
              "IPY_MODEL_2cbabe88077a46c9aca826173e5ae10a",
              "IPY_MODEL_608b8d2ff8fe459cbc796c3334117918",
              "IPY_MODEL_93a052ed38c84fbb963eb0af36807c0e"
            ],
            "layout": "IPY_MODEL_fb83d8a3320a4e2d9479e75e38755552"
          }
        },
        "7697c062a78b439ca5af4d14995dd7a3": {
          "model_module": "@jupyter-widgets/base",
          "model_module_version": "1.2.0",
          "model_name": "LayoutModel",
          "state": {
            "_model_module": "@jupyter-widgets/base",
            "_model_module_version": "1.2.0",
            "_model_name": "LayoutModel",
            "_view_count": null,
            "_view_module": "@jupyter-widgets/base",
            "_view_module_version": "1.2.0",
            "_view_name": "LayoutView",
            "align_content": null,
            "align_items": null,
            "align_self": null,
            "border": null,
            "bottom": null,
            "display": null,
            "flex": null,
            "flex_flow": null,
            "grid_area": null,
            "grid_auto_columns": null,
            "grid_auto_flow": null,
            "grid_auto_rows": null,
            "grid_column": null,
            "grid_gap": null,
            "grid_row": null,
            "grid_template_areas": null,
            "grid_template_columns": null,
            "grid_template_rows": null,
            "height": null,
            "justify_content": null,
            "justify_items": null,
            "left": null,
            "margin": null,
            "max_height": null,
            "max_width": null,
            "min_height": null,
            "min_width": null,
            "object_fit": null,
            "object_position": null,
            "order": null,
            "overflow": null,
            "overflow_x": null,
            "overflow_y": null,
            "padding": null,
            "right": null,
            "top": null,
            "visibility": null,
            "width": null
          }
        },
        "9223cad21c784433bf663bfba67f9967": {
          "model_module": "@jupyter-widgets/controls",
          "model_module_version": "1.5.0",
          "model_name": "DescriptionStyleModel",
          "state": {
            "_model_module": "@jupyter-widgets/controls",
            "_model_module_version": "1.5.0",
            "_model_name": "DescriptionStyleModel",
            "_view_count": null,
            "_view_module": "@jupyter-widgets/base",
            "_view_module_version": "1.2.0",
            "_view_name": "StyleView",
            "description_width": ""
          }
        },
        "93a052ed38c84fbb963eb0af36807c0e": {
          "model_module": "@jupyter-widgets/controls",
          "model_module_version": "1.5.0",
          "model_name": "HTMLModel",
          "state": {
            "_dom_classes": [],
            "_model_module": "@jupyter-widgets/controls",
            "_model_module_version": "1.5.0",
            "_model_name": "HTMLModel",
            "_view_count": null,
            "_view_module": "@jupyter-widgets/controls",
            "_view_module_version": "1.5.0",
            "_view_name": "HTMLView",
            "description": "",
            "description_tooltip": null,
            "layout": "IPY_MODEL_faea059263f54e2baaba776e6b654ef4",
            "placeholder": "​",
            "style": "IPY_MODEL_9223cad21c784433bf663bfba67f9967",
            "value": " 38/38 [01:49&lt;00:00,  3.04s/it]"
          }
        },
        "a2dc743f50b74210a94166dca891f3f0": {
          "model_module": "@jupyter-widgets/controls",
          "model_module_version": "1.5.0",
          "model_name": "ProgressStyleModel",
          "state": {
            "_model_module": "@jupyter-widgets/controls",
            "_model_module_version": "1.5.0",
            "_model_name": "ProgressStyleModel",
            "_view_count": null,
            "_view_module": "@jupyter-widgets/base",
            "_view_module_version": "1.2.0",
            "_view_name": "StyleView",
            "bar_color": null,
            "description_width": ""
          }
        },
        "faea059263f54e2baaba776e6b654ef4": {
          "model_module": "@jupyter-widgets/base",
          "model_module_version": "1.2.0",
          "model_name": "LayoutModel",
          "state": {
            "_model_module": "@jupyter-widgets/base",
            "_model_module_version": "1.2.0",
            "_model_name": "LayoutModel",
            "_view_count": null,
            "_view_module": "@jupyter-widgets/base",
            "_view_module_version": "1.2.0",
            "_view_name": "LayoutView",
            "align_content": null,
            "align_items": null,
            "align_self": null,
            "border": null,
            "bottom": null,
            "display": null,
            "flex": null,
            "flex_flow": null,
            "grid_area": null,
            "grid_auto_columns": null,
            "grid_auto_flow": null,
            "grid_auto_rows": null,
            "grid_column": null,
            "grid_gap": null,
            "grid_row": null,
            "grid_template_areas": null,
            "grid_template_columns": null,
            "grid_template_rows": null,
            "height": null,
            "justify_content": null,
            "justify_items": null,
            "left": null,
            "margin": null,
            "max_height": null,
            "max_width": null,
            "min_height": null,
            "min_width": null,
            "object_fit": null,
            "object_position": null,
            "order": null,
            "overflow": null,
            "overflow_x": null,
            "overflow_y": null,
            "padding": null,
            "right": null,
            "top": null,
            "visibility": null,
            "width": null
          }
        },
        "fb83d8a3320a4e2d9479e75e38755552": {
          "model_module": "@jupyter-widgets/base",
          "model_module_version": "1.2.0",
          "model_name": "LayoutModel",
          "state": {
            "_model_module": "@jupyter-widgets/base",
            "_model_module_version": "1.2.0",
            "_model_name": "LayoutModel",
            "_view_count": null,
            "_view_module": "@jupyter-widgets/base",
            "_view_module_version": "1.2.0",
            "_view_name": "LayoutView",
            "align_content": null,
            "align_items": null,
            "align_self": null,
            "border": null,
            "bottom": null,
            "display": null,
            "flex": null,
            "flex_flow": null,
            "grid_area": null,
            "grid_auto_columns": null,
            "grid_auto_flow": null,
            "grid_auto_rows": null,
            "grid_column": null,
            "grid_gap": null,
            "grid_row": null,
            "grid_template_areas": null,
            "grid_template_columns": null,
            "grid_template_rows": null,
            "height": null,
            "justify_content": null,
            "justify_items": null,
            "left": null,
            "margin": null,
            "max_height": null,
            "max_width": null,
            "min_height": null,
            "min_width": null,
            "object_fit": null,
            "object_position": null,
            "order": null,
            "overflow": null,
            "overflow_x": null,
            "overflow_y": null,
            "padding": null,
            "right": null,
            "top": null,
            "visibility": null,
            "width": null
          }
        }
      }
    }
  },
  "nbformat": 4,
  "nbformat_minor": 0
}
