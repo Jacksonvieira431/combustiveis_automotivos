{
 "cells": [
  {
   "cell_type": "code",
   "execution_count": 29,
   "metadata": {},
   "outputs": [],
   "source": [
    "import pandas as pd\n",
    "import seaborn as sns\n",
    "import matplotlib.pyplot as plt\n",
    "import os"
   ]
  },
  {
   "cell_type": "code",
   "execution_count": 30,
   "metadata": {},
   "outputs": [],
   "source": [
    "amostra_df = pd.read_csv(\"Tabelas/amostras_df.csv\", encoding='utf-8')"
   ]
  },
  {
   "cell_type": "code",
   "execution_count": 31,
   "metadata": {},
   "outputs": [],
   "source": [
    "amostra_df['Data da Coleta'] = pd.to_datetime(amostra_df['Data da Coleta'])\n",
    "amostra_df = amostra_df.set_index(\"Data da Coleta\")"
   ]
  },
  {
   "cell_type": "code",
   "execution_count": 32,
   "metadata": {},
   "outputs": [],
   "source": [
    "amostra_df['Ano'] = amostra_df.index.year\n",
    "amostra_df['Mes'] = amostra_df.index.month\n",
    "amostra_df['Dia'] = amostra_df.index.day"
   ]
  },
  {
   "cell_type": "code",
   "execution_count": 33,
   "metadata": {},
   "outputs": [
    {
     "data": {
      "text/html": [
       "<div>\n",
       "<style scoped>\n",
       "    .dataframe tbody tr th:only-of-type {\n",
       "        vertical-align: middle;\n",
       "    }\n",
       "\n",
       "    .dataframe tbody tr th {\n",
       "        vertical-align: top;\n",
       "    }\n",
       "\n",
       "    .dataframe thead th {\n",
       "        text-align: right;\n",
       "    }\n",
       "</style>\n",
       "<table border=\"1\" class=\"dataframe\">\n",
       "  <thead>\n",
       "    <tr style=\"text-align: right;\">\n",
       "      <th></th>\n",
       "      <th>Regiao - Sigla</th>\n",
       "      <th>Estado - Sigla</th>\n",
       "      <th>Municipio</th>\n",
       "      <th>Produto</th>\n",
       "      <th>Valor de Venda</th>\n",
       "      <th>Unidade de Medida</th>\n",
       "      <th>Bandeira</th>\n",
       "      <th>Ano</th>\n",
       "      <th>Mes</th>\n",
       "      <th>Dia</th>\n",
       "    </tr>\n",
       "    <tr>\n",
       "      <th>Data da Coleta</th>\n",
       "      <th></th>\n",
       "      <th></th>\n",
       "      <th></th>\n",
       "      <th></th>\n",
       "      <th></th>\n",
       "      <th></th>\n",
       "      <th></th>\n",
       "      <th></th>\n",
       "      <th></th>\n",
       "      <th></th>\n",
       "    </tr>\n",
       "  </thead>\n",
       "  <tbody>\n",
       "    <tr>\n",
       "      <th>2012-01-02</th>\n",
       "      <td>S</td>\n",
       "      <td>RS</td>\n",
       "      <td>TRAMANDAI</td>\n",
       "      <td>ETANOL</td>\n",
       "      <td>2.499</td>\n",
       "      <td>Litro</td>\n",
       "      <td>IPIRANGA</td>\n",
       "      <td>2012</td>\n",
       "      <td>1</td>\n",
       "      <td>2</td>\n",
       "    </tr>\n",
       "    <tr>\n",
       "      <th>2012-01-02</th>\n",
       "      <td>S</td>\n",
       "      <td>RS</td>\n",
       "      <td>NOVO HAMBURGO</td>\n",
       "      <td>DIESEL</td>\n",
       "      <td>2.049</td>\n",
       "      <td>Litro</td>\n",
       "      <td>PETROBRAS DISTRIBUIDORA S.A.</td>\n",
       "      <td>2012</td>\n",
       "      <td>1</td>\n",
       "      <td>2</td>\n",
       "    </tr>\n",
       "    <tr>\n",
       "      <th>2012-01-02</th>\n",
       "      <td>SE</td>\n",
       "      <td>SP</td>\n",
       "      <td>TUPA</td>\n",
       "      <td>GASOLINA</td>\n",
       "      <td>2.790</td>\n",
       "      <td>Litro</td>\n",
       "      <td>RAIZEN</td>\n",
       "      <td>2012</td>\n",
       "      <td>1</td>\n",
       "      <td>2</td>\n",
       "    </tr>\n",
       "    <tr>\n",
       "      <th>2012-01-02</th>\n",
       "      <td>SE</td>\n",
       "      <td>SP</td>\n",
       "      <td>ARARAQUARA</td>\n",
       "      <td>GASOLINA</td>\n",
       "      <td>2.529</td>\n",
       "      <td>Litro</td>\n",
       "      <td>BRANCA</td>\n",
       "      <td>2012</td>\n",
       "      <td>1</td>\n",
       "      <td>2</td>\n",
       "    </tr>\n",
       "    <tr>\n",
       "      <th>2012-01-02</th>\n",
       "      <td>NE</td>\n",
       "      <td>BA</td>\n",
       "      <td>CAMACARI</td>\n",
       "      <td>DIESEL</td>\n",
       "      <td>1.980</td>\n",
       "      <td>Litro</td>\n",
       "      <td>RAIZEN</td>\n",
       "      <td>2012</td>\n",
       "      <td>1</td>\n",
       "      <td>2</td>\n",
       "    </tr>\n",
       "  </tbody>\n",
       "</table>\n",
       "</div>"
      ],
      "text/plain": [
       "               Regiao - Sigla Estado - Sigla      Municipio   Produto  \\\n",
       "Data da Coleta                                                          \n",
       "2012-01-02                  S             RS      TRAMANDAI    ETANOL   \n",
       "2012-01-02                  S             RS  NOVO HAMBURGO    DIESEL   \n",
       "2012-01-02                 SE             SP           TUPA  GASOLINA   \n",
       "2012-01-02                 SE             SP     ARARAQUARA  GASOLINA   \n",
       "2012-01-02                 NE             BA       CAMACARI    DIESEL   \n",
       "\n",
       "                Valor de Venda Unidade de Medida  \\\n",
       "Data da Coleta                                     \n",
       "2012-01-02               2.499             Litro   \n",
       "2012-01-02               2.049             Litro   \n",
       "2012-01-02               2.790             Litro   \n",
       "2012-01-02               2.529             Litro   \n",
       "2012-01-02               1.980             Litro   \n",
       "\n",
       "                                    Bandeira   Ano  Mes  Dia  \n",
       "Data da Coleta                                                \n",
       "2012-01-02                          IPIRANGA  2012    1    2  \n",
       "2012-01-02      PETROBRAS DISTRIBUIDORA S.A.  2012    1    2  \n",
       "2012-01-02                            RAIZEN  2012    1    2  \n",
       "2012-01-02                            BRANCA  2012    1    2  \n",
       "2012-01-02                            RAIZEN  2012    1    2  "
      ]
     },
     "execution_count": 33,
     "metadata": {},
     "output_type": "execute_result"
    }
   ],
   "source": [
    "amostra_df.head()"
   ]
  },
  {
   "cell_type": "code",
   "execution_count": 20,
   "metadata": {},
   "outputs": [
    {
     "data": {
      "text/html": [
       "<div>\n",
       "<style scoped>\n",
       "    .dataframe tbody tr th:only-of-type {\n",
       "        vertical-align: middle;\n",
       "    }\n",
       "\n",
       "    .dataframe tbody tr th {\n",
       "        vertical-align: top;\n",
       "    }\n",
       "\n",
       "    .dataframe thead th {\n",
       "        text-align: right;\n",
       "    }\n",
       "</style>\n",
       "<table border=\"1\" class=\"dataframe\">\n",
       "  <thead>\n",
       "    <tr style=\"text-align: right;\">\n",
       "      <th></th>\n",
       "      <th>count</th>\n",
       "      <th>mean</th>\n",
       "      <th>std</th>\n",
       "      <th>min</th>\n",
       "      <th>25%</th>\n",
       "      <th>50%</th>\n",
       "      <th>75%</th>\n",
       "      <th>max</th>\n",
       "    </tr>\n",
       "  </thead>\n",
       "  <tbody>\n",
       "    <tr>\n",
       "      <th>Ano</th>\n",
       "      <td>1675306.0</td>\n",
       "      <td>2016.464044</td>\n",
       "      <td>3.211905</td>\n",
       "      <td>2012.0</td>\n",
       "      <td>2014.0</td>\n",
       "      <td>2016.0</td>\n",
       "      <td>2019.0</td>\n",
       "      <td>2022.0</td>\n",
       "    </tr>\n",
       "    <tr>\n",
       "      <th>Mes</th>\n",
       "      <td>1675306.0</td>\n",
       "      <td>6.303879</td>\n",
       "      <td>3.439876</td>\n",
       "      <td>1.0</td>\n",
       "      <td>3.0</td>\n",
       "      <td>6.0</td>\n",
       "      <td>9.0</td>\n",
       "      <td>12.0</td>\n",
       "    </tr>\n",
       "    <tr>\n",
       "      <th>Dia</th>\n",
       "      <td>1675306.0</td>\n",
       "      <td>15.696550</td>\n",
       "      <td>8.776227</td>\n",
       "      <td>1.0</td>\n",
       "      <td>8.0</td>\n",
       "      <td>16.0</td>\n",
       "      <td>23.0</td>\n",
       "      <td>31.0</td>\n",
       "    </tr>\n",
       "  </tbody>\n",
       "</table>\n",
       "</div>"
      ],
      "text/plain": [
       "         count         mean       std     min     25%     50%     75%     max\n",
       "Ano  1675306.0  2016.464044  3.211905  2012.0  2014.0  2016.0  2019.0  2022.0\n",
       "Mes  1675306.0     6.303879  3.439876     1.0     3.0     6.0     9.0    12.0\n",
       "Dia  1675306.0    15.696550  8.776227     1.0     8.0    16.0    23.0    31.0"
      ]
     },
     "execution_count": 20,
     "metadata": {},
     "output_type": "execute_result"
    }
   ],
   "source": [
    "analise_ano_mes_dia = amostra_df[['Ano', 'Mes', 'Dia']].describe().transpose()\n",
    "analise_ano_mes_dia.to_csv(\"Tabelas/analise_ano_mes_dia.csv\", encoding='utf-8')\n",
    "analise_ano_mes_dia"
   ]
  },
  {
   "cell_type": "code",
   "execution_count": null,
   "metadata": {},
   "outputs": [],
   "source": []
  },
  {
   "cell_type": "code",
   "execution_count": 19,
   "metadata": {},
   "outputs": [
    {
     "data": {
      "text/plain": [
       "Ano\n",
       "2012    463,477.56\n",
       "2013    502,228.51\n",
       "2014    465,713.97\n",
       "2015    476,337.84\n",
       "2016    467,824.36\n",
       "2017    385,114.00\n",
       "2018    536,203.05\n",
       "2019    566,467.52\n",
       "2020    395,760.36\n",
       "2021    634,881.87\n",
       "2022    832,595.46\n",
       "Name: Valor de Venda, dtype: object"
      ]
     },
     "execution_count": 19,
     "metadata": {},
     "output_type": "execute_result"
    }
   ],
   "source": [
    "analise_ano = amostra_df.groupby('Ano')['Valor de Venda'].sum().apply(lambda x: '{:,.2f}'.format(x))\n",
    "analise_ano.to_csv(\"Tabelas/analise_ano.csv\", encoding='utf-8')\n",
    "analise_ano"
   ]
  },
  {
   "cell_type": "code",
   "execution_count": 37,
   "metadata": {},
   "outputs": [
    {
     "ename": "NameError",
     "evalue": "name 'os' is not defined",
     "output_type": "error",
     "traceback": [
      "\u001b[1;31m---------------------------------------------------------------------------\u001b[0m",
      "\u001b[1;31mNameError\u001b[0m                                 Traceback (most recent call last)",
      "Cell \u001b[1;32mIn[37], line 10\u001b[0m\n\u001b[0;32m      6\u001b[0m     plt\u001b[39m.\u001b[39mtext(ano, valor_medio, \u001b[39mf\u001b[39m\u001b[39m'\u001b[39m\u001b[39m{\u001b[39;00mvalor_medio\u001b[39m:\u001b[39;00m\u001b[39m.2f\u001b[39m\u001b[39m}\u001b[39;00m\u001b[39m'\u001b[39m, ha\u001b[39m=\u001b[39m\u001b[39m'\u001b[39m\u001b[39mcenter\u001b[39m\u001b[39m'\u001b[39m, va\u001b[39m=\u001b[39m\u001b[39m'\u001b[39m\u001b[39mbottom\u001b[39m\u001b[39m'\u001b[39m, fontsize\u001b[39m=\u001b[39m\u001b[39m8\u001b[39m)\n\u001b[0;32m      8\u001b[0m plt\u001b[39m.\u001b[39mtitle(\u001b[39m\"\u001b[39m\u001b[39mMédia de vendas por ano\u001b[39m\u001b[39m\"\u001b[39m)\n\u001b[1;32m---> 10\u001b[0m \u001b[39mif\u001b[39;00m \u001b[39mnot\u001b[39;00m os\u001b[39m.\u001b[39mpath\u001b[39m.\u001b[39mexists(\u001b[39m\"\u001b[39m\u001b[39mGraficos_Seres_Temporais\u001b[39m\u001b[39m\"\u001b[39m):\n\u001b[0;32m     11\u001b[0m     os\u001b[39m.\u001b[39mmakedirs(\u001b[39m\"\u001b[39m\u001b[39mGraficos_Seres_Temporais\u001b[39m\u001b[39m\"\u001b[39m)\n\u001b[0;32m     13\u001b[0m plt\u001b[39m.\u001b[39msavefig(\u001b[39m\"\u001b[39m\u001b[39mGraficos_salvos/Maiores-valores-por-Regiao-do-Brasil.png\u001b[39m\u001b[39m\"\u001b[39m)\n",
      "\u001b[1;31mNameError\u001b[0m: name 'os' is not defined"
     ]
    },
    {
     "data": {
      "image/png": "[encoded data removed]",
      "text/plain": [
       "<Figure size 640x480 with 1 Axes>"
      ]
     },
     "metadata": {},
     "output_type": "display_data"
    }
   ],
   "source": [
    "media_vendas_por_ano = amostra_df.groupby('Ano')['Valor de Venda'].mean()\n",
    "\n",
    "grafico_ano = sns.lineplot(x=\"Ano\", y=\"Valor de Venda\", data=amostra_df)\n",
    "\n",
    "for ano, valor_medio in media_vendas_por_ano.items():\n",
    "    plt.text(ano, valor_medio, f'{valor_medio:.2f}', ha='center', va='bottom', fontsize=8)\n",
    "\n",
    "plt.title(\"Média de vendas por ano\")\n",
    "\n",
    "if not os.path.exists(\"Graficos_Seres_Temporais\"):\n",
    "    os.makedirs(\"Graficos_Seres_Temporais\")\n",
    "\n",
    "plt.savefig(\"Graficos_salvos/Maiores-valores-por-Regiao-do-Brasil.png\")\n",
    "\n",
    "plt.show()"
   ]
  },
  {
   "cell_type": "code",
   "execution_count": 21,
   "metadata": {},
   "outputs": [
    {
     "data": {
      "text/plain": [
       "Mes\n",
       "1     503,535.60\n",
       "2     461,839.89\n",
       "3     525,191.63\n",
       "4     517,766.50\n",
       "5     491,562.92\n",
       "6     484,835.64\n",
       "7     536,720.71\n",
       "8     492,966.18\n",
       "9     392,388.72\n",
       "10    417,025.55\n",
       "11    434,669.86\n",
       "12    468,101.29\n",
       "Name: Valor de Venda, dtype: object"
      ]
     },
     "execution_count": 21,
     "metadata": {},
     "output_type": "execute_result"
    }
   ],
   "source": [
    "analise_mes = amostra_df.groupby('Mes')['Valor de Venda'].sum().apply(lambda x: '{:,.2f}'.format(x))\n",
    "analise_mes.to_csv(\"Tabelas/analise_mes.csv\", encoding='utf-8')\n",
    "analise_mes"
   ]
  },
  {
   "cell_type": "code",
   "execution_count": null,
   "metadata": {},
   "outputs": [],
   "source": []
  },
  {
   "cell_type": "code",
   "execution_count": 22,
   "metadata": {},
   "outputs": [
    {
     "data": {
      "text/plain": [
       "Dia\n",
       "1     168,457.54\n",
       "2     195,358.29\n",
       "3     191,741.35\n",
       "4     192,245.54\n",
       "5     196,212.47\n",
       "6     196,575.98\n",
       "7     175,006.52\n",
       "8     188,884.83\n",
       "9     178,237.57\n",
       "10    201,233.55\n",
       "11    197,274.99\n",
       "12    182,092.48\n",
       "13    201,025.97\n",
       "14    180,951.35\n",
       "15    188,424.81\n",
       "16    187,381.71\n",
       "17    197,298.32\n",
       "18    198,371.66\n",
       "19    169,546.11\n",
       "20    189,914.96\n",
       "21    175,248.05\n",
       "22    199,227.53\n",
       "23    198,622.42\n",
       "24    176,210.65\n",
       "25    180,518.90\n",
       "26    182,890.02\n",
       "27    199,239.26\n",
       "28    182,072.22\n",
       "29    181,364.38\n",
       "30    180,791.37\n",
       "31     94,183.75\n",
       "Name: Valor de Venda, dtype: object"
      ]
     },
     "execution_count": 22,
     "metadata": {},
     "output_type": "execute_result"
    }
   ],
   "source": [
    "analise_dia = amostra_df.groupby('Dia')['Valor de Venda'].sum().apply(lambda x: '{:,.2f}'.format(x))\n",
    "analise_dia.to_csv(\"Tabelas/analise_dia.csv\", encoding='utf-8')\n",
    "analise_dia"
   ]
  },
  {
   "cell_type": "code",
   "execution_count": null,
   "metadata": {},
   "outputs": [],
   "source": []
  }
 ],
 "metadata": {
  "kernelspec": {
   "display_name": "venv",
   "language": "python",
   "name": "python3"
  },
  "language_info": {
   "codemirror_mode": {
    "name": "ipython",
    "version": 3
   },
   "file_extension": ".py",
   "mimetype": "text/x-python",
   "name": "python",
   "nbconvert_exporter": "python",
   "pygments_lexer": "ipython3",
   "version": "3.11.4"
  },
  "orig_nbformat": 4
 },
 "nbformat": 4,
 "nbformat_minor": 2
}
