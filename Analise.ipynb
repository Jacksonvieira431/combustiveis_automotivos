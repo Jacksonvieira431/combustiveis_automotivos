{
 "cells": [
  {
   "cell_type": "code",
   "execution_count": 1,
   "metadata": {},
   "outputs": [
    {
     "name": "stderr",
     "output_type": "stream",
     "text": [
      "C:\\Users\\jacks\\AppData\\Local\\Temp\\ipykernel_3188\\2245235532.py:3: TqdmWarning: IProgress not found. Please update jupyter and ipywidgets. See https://ipywidgets.readthedocs.io/en/stable/user_install.html\n",
      "  from tqdm.autonotebook import tqdm\n"
     ]
    }
   ],
   "source": [
    "import os\n",
    "import pandas as pd\n",
    "from tqdm.autonotebook import tqdm\n"
   ]
  },
  {
   "cell_type": "code",
   "execution_count": null,
   "metadata": {},
   "outputs": [],
   "source": [
    "csv_files_1 = [file for file in os.listdir(\"Combustíveis Automotivos-2004-a-2022-1\") if file.endswith(\".csv\")]\n",
    "csv_files_2 = [file for file in os.listdir(\"Combustíveis Automotivos-2004-a-2022-2\") if file.endswith(\".csv\")]\n",
    "\n",
    "csv_files = csv_files_1 + csv_files_2\n",
    "\n",
    "dataframes = []\n",
    "\n",
    "progress_bar = tqdm(csv_files, desc=\"Lendo arquivos CSV\")\n",
    "\n",
    "for csv_file in progress_bar:\n",
    "    csv_path = os.path.join(\"Combustíveis Automotivos-2004-a-2022-1\" if csv_file in csv_files_1 else \"Combustíveis Automotivos-2004-a-2022-2\", csv_file)\n",
    "    df = pd.read_csv(csv_path, sep=';')\n",
    "    dataframes.append(df)\n",
    "\n",
    "combustiveis_automotivos_df = pd.concat(dataframes, ignore_index=True)\n",
    "\n",
    "combustiveis_automotivos_df.head()\n"
   ]
  }
 ],
 "metadata": {
  "kernelspec": {
   "display_name": ".venv",
   "language": "python",
   "name": "python3"
  },
  "language_info": {
   "codemirror_mode": {
    "name": "ipython",
    "version": 3
   },
   "file_extension": ".py",
   "mimetype": "text/x-python",
   "name": "python",
   "nbconvert_exporter": "python",
   "pygments_lexer": "ipython3",
   "version": "3.11.4"
  },
  "orig_nbformat": 4
 },
 "nbformat": 4,
 "nbformat_minor": 2
}
