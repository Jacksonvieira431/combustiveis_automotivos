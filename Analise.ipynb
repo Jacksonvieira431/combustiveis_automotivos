{
  "cells": [
    {
      "cell_type": "code",
      "execution_count": 2,
      "metadata": {
        "colab": {
          "base_uri": "https://localhost:8080/"
        },
        "id": "QmIOoo_HkLR5",
        "outputId": "6cc56f2a-12b9-4c77-e505-36b4c311b620"
      },
      "outputs": [
        {
          "name": "stderr",
          "output_type": "stream",
          "text": [
            "C:\\Users\\jacks\\AppData\\Local\\Temp\\ipykernel_9704\\3559677255.py:3: TqdmWarning: IProgress not found. Please update jupyter and ipywidgets. See https://ipywidgets.readthedocs.io/en/stable/user_install.html\n",
            "  from tqdm.autonotebook import tqdm\n"
          ]
        }
      ],
      "source": [
        "import os\n",
        "import pandas as pd\n",
        "from tqdm.autonotebook import tqdm\n",
        "import glob\n",
        "import patoolib\n",
        "import numpy as np\n",
        "import matplotlib.pyplot as plt"
      ]
    },
    {
      "cell_type": "code",
      "execution_count": 3,
      "metadata": {},
      "outputs": [],
      "source": [
        "# O diretorio onde os arquivos do repositorio clonado estão\n",
        "Diretorio_local = \"C:/Users/jacks/OneDrive/Projetos/combustiveis_automotivos\"\n",
        "\n",
        "dest_dir = f\"{Diretorio_local}/arquivos-extraidos/\"\n",
        "\n",
        "rar_files = [f\"{Diretorio_local}/Combustíveis Automotivos-2012-a-2022.rar\"]"
      ]
    },
    {
      "cell_type": "code",
      "execution_count": 4,
      "metadata": {
        "colab": {
          "base_uri": "https://localhost:8080/",
          "height": 156,
          "referenced_widgets": [
            "63017aa71a184bc6b0473fc7d1903b3c",
            "2cbabe88077a46c9aca826173e5ae10a",
            "608b8d2ff8fe459cbc796c3334117918",
            "93a052ed38c84fbb963eb0af36807c0e",
            "fb83d8a3320a4e2d9479e75e38755552",
            "3972db9ae34647918aff9dab3d805356",
            "364aef66825c4c8b955247881d480f5d",
            "7697c062a78b439ca5af4d14995dd7a3",
            "a2dc743f50b74210a94166dca891f3f0",
            "faea059263f54e2baaba776e6b654ef4",
            "9223cad21c784433bf663bfba67f9967"
          ]
        },
        "id": "3xU7WBuTkLSB",
        "outputId": "248e29b9-4ff0-4943-f90c-e3df18f63817"
      },
      "outputs": [
        {
          "name": "stderr",
          "output_type": "stream",
          "text": [
            "Lendo arquivos CSV:   0%|          | 0/22 [00:00<?, ?it/s]"
          ]
        },
        {
          "name": "stderr",
          "output_type": "stream",
          "text": [
            "Lendo arquivos CSV:  77%|███████▋  | 17/22 [01:06<00:18,  3.71s/it]C:\\Users\\jacks\\AppData\\Local\\Temp\\ipykernel_9704\\3907117049.py:12: DtypeWarning: Columns (13) have mixed types. Specify dtype option on import or set low_memory=False.\n",
            "  df = pd.read_csv(csv_file, sep=';', encoding=encoding)\n",
            "Lendo arquivos CSV:  86%|████████▋ | 19/22 [01:10<00:08,  2.91s/it]"
          ]
        },
        {
          "name": "stdout",
          "output_type": "stream",
          "text": [
            "Tentando codificação utf-8 para o arquivo C:/Users/jacks/OneDrive/Projetos/combustiveis_automotivos/arquivos-extraidos\\ca-2021-02.csv - Erro: 'utf-8' codec can't decode byte 0xd3 in position 34: invalid continuation byte\n"
          ]
        },
        {
          "name": "stderr",
          "output_type": "stream",
          "text": [
            "Lendo arquivos CSV: 100%|██████████| 22/22 [01:20<00:00,  3.66s/it]\n"
          ]
        },
        {
          "name": "stdout",
          "output_type": "stream",
          "text": [
            "\n",
            "Arquivos extraidos com sucesso!\n"
          ]
        }
      ],
      "source": [
        "csv_files = glob.glob(f\"{dest_dir}*.csv\")\n",
        "\n",
        "dataframes = []\n",
        "\n",
        "progress_bar = tqdm(csv_files, desc=\"Lendo arquivos CSV\")\n",
        "\n",
        "encodings = ['utf-8', 'ISO-8859-1', 'latin-1']\n",
        "\n",
        "for csv_file in progress_bar:\n",
        "    for encoding in encodings:\n",
        "        try:\n",
        "            df = pd.read_csv(csv_file, sep=';', encoding=encoding)\n",
        "            dataframes.append(df)\n",
        "            break\n",
        "        except Exception as e:\n",
        "            print(f\"Tentando codificação {encoding} para o arquivo {csv_file} - Erro: {e}\")\n",
        "\n",
        "\n",
        "combustiveis_automotivos_df = pd.concat(dataframes, ignore_index=True)\n",
        "print(\"\\nArquivos extraidos com sucesso!\")"
      ]
    },
    {
      "cell_type": "code",
      "execution_count": 5,
      "metadata": {
        "colab": {
          "base_uri": "https://localhost:8080/",
          "height": 354
        },
        "id": "fq5EUwoh1OjL",
        "outputId": "cbfa9b1a-d845-48e6-da94-bb5d5b765c84"
      },
      "outputs": [
        {
          "data": {
            "text/html": [
              "<div>\n",
              "<style scoped>\n",
              "    .dataframe tbody tr th:only-of-type {\n",
              "        vertical-align: middle;\n",
              "    }\n",
              "\n",
              "    .dataframe tbody tr th {\n",
              "        vertical-align: top;\n",
              "    }\n",
              "\n",
              "    .dataframe thead th {\n",
              "        text-align: right;\n",
              "    }\n",
              "</style>\n",
              "<table border=\"1\" class=\"dataframe\">\n",
              "  <thead>\n",
              "    <tr style=\"text-align: right;\">\n",
              "      <th></th>\n",
              "      <th>Regiao - Sigla</th>\n",
              "      <th>Estado - Sigla</th>\n",
              "      <th>Municipio</th>\n",
              "      <th>Revenda</th>\n",
              "      <th>CNPJ da Revenda</th>\n",
              "      <th>Nome da Rua</th>\n",
              "      <th>Numero Rua</th>\n",
              "      <th>Complemento</th>\n",
              "      <th>Bairro</th>\n",
              "      <th>Cep</th>\n",
              "      <th>Produto</th>\n",
              "      <th>Data da Coleta</th>\n",
              "      <th>Valor de Venda</th>\n",
              "      <th>Valor de Compra</th>\n",
              "      <th>Unidade de Medida</th>\n",
              "      <th>Bandeira</th>\n",
              "    </tr>\n",
              "  </thead>\n",
              "  <tbody>\n",
              "    <tr>\n",
              "      <th>0</th>\n",
              "      <td>SE</td>\n",
              "      <td>SP</td>\n",
              "      <td>GUARULHOS</td>\n",
              "      <td>AUTO POSTO SAKAMOTO LTDA</td>\n",
              "      <td>49.051.667/0001-02</td>\n",
              "      <td>RODOVIA PRESIDENTE DUTRA</td>\n",
              "      <td>S/N</td>\n",
              "      <td>KM 210,5-SENT SP/RJ</td>\n",
              "      <td>BONSUCESSO</td>\n",
              "      <td>07178-580</td>\n",
              "      <td>GASOLINA</td>\n",
              "      <td>03/01/2012</td>\n",
              "      <td>2,589</td>\n",
              "      <td>NaN</td>\n",
              "      <td>R$ / litro</td>\n",
              "      <td>PETROBRAS DISTRIBUIDORA S.A.</td>\n",
              "    </tr>\n",
              "    <tr>\n",
              "      <th>1</th>\n",
              "      <td>SE</td>\n",
              "      <td>SP</td>\n",
              "      <td>GUARULHOS</td>\n",
              "      <td>AUTO POSTO SAKAMOTO LTDA</td>\n",
              "      <td>49.051.667/0001-02</td>\n",
              "      <td>RODOVIA PRESIDENTE DUTRA</td>\n",
              "      <td>S/N</td>\n",
              "      <td>KM 210,5-SENT SP/RJ</td>\n",
              "      <td>BONSUCESSO</td>\n",
              "      <td>07178-580</td>\n",
              "      <td>ETANOL</td>\n",
              "      <td>03/01/2012</td>\n",
              "      <td>1,969</td>\n",
              "      <td>NaN</td>\n",
              "      <td>R$ / litro</td>\n",
              "      <td>PETROBRAS DISTRIBUIDORA S.A.</td>\n",
              "    </tr>\n",
              "    <tr>\n",
              "      <th>2</th>\n",
              "      <td>SE</td>\n",
              "      <td>SP</td>\n",
              "      <td>GUARULHOS</td>\n",
              "      <td>AUTO POSTO SAKAMOTO LTDA</td>\n",
              "      <td>49.051.667/0001-02</td>\n",
              "      <td>RODOVIA PRESIDENTE DUTRA</td>\n",
              "      <td>S/N</td>\n",
              "      <td>KM 210,5-SENT SP/RJ</td>\n",
              "      <td>BONSUCESSO</td>\n",
              "      <td>07178-580</td>\n",
              "      <td>DIESEL</td>\n",
              "      <td>03/01/2012</td>\n",
              "      <td>1,879</td>\n",
              "      <td>NaN</td>\n",
              "      <td>R$ / litro</td>\n",
              "      <td>PETROBRAS DISTRIBUIDORA S.A.</td>\n",
              "    </tr>\n",
              "    <tr>\n",
              "      <th>3</th>\n",
              "      <td>CO</td>\n",
              "      <td>DF</td>\n",
              "      <td>BRASILIA</td>\n",
              "      <td>GASOL COMBUSTÍVEIS AUTOMOTIVOS LTDA.</td>\n",
              "      <td>00.603.738/0001-43</td>\n",
              "      <td>QI-QUADRA INTERNA 18  LOTES 47, 49, 51 E 53</td>\n",
              "      <td>S/N</td>\n",
              "      <td>NaN</td>\n",
              "      <td>TAGUATINGA</td>\n",
              "      <td>72315-000</td>\n",
              "      <td>GASOLINA</td>\n",
              "      <td>05/01/2012</td>\n",
              "      <td>2,83</td>\n",
              "      <td>NaN</td>\n",
              "      <td>R$ / litro</td>\n",
              "      <td>PETROBRAS DISTRIBUIDORA S.A.</td>\n",
              "    </tr>\n",
              "    <tr>\n",
              "      <th>4</th>\n",
              "      <td>CO</td>\n",
              "      <td>DF</td>\n",
              "      <td>BRASILIA</td>\n",
              "      <td>GASOL COMBUSTÍVEIS AUTOMOTIVOS LTDA.</td>\n",
              "      <td>00.603.738/0001-43</td>\n",
              "      <td>QI-QUADRA INTERNA 18  LOTES 47, 49, 51 E 53</td>\n",
              "      <td>S/N</td>\n",
              "      <td>NaN</td>\n",
              "      <td>TAGUATINGA</td>\n",
              "      <td>72315-000</td>\n",
              "      <td>ETANOL</td>\n",
              "      <td>05/01/2012</td>\n",
              "      <td>2,27</td>\n",
              "      <td>NaN</td>\n",
              "      <td>R$ / litro</td>\n",
              "      <td>PETROBRAS DISTRIBUIDORA S.A.</td>\n",
              "    </tr>\n",
              "  </tbody>\n",
              "</table>\n",
              "</div>"
            ],
            "text/plain": [
              "  Regiao - Sigla Estado - Sigla  Municipio  \\\n",
              "0             SE             SP  GUARULHOS   \n",
              "1             SE             SP  GUARULHOS   \n",
              "2             SE             SP  GUARULHOS   \n",
              "3             CO             DF   BRASILIA   \n",
              "4             CO             DF   BRASILIA   \n",
              "\n",
              "                                Revenda      CNPJ da Revenda  \\\n",
              "0              AUTO POSTO SAKAMOTO LTDA   49.051.667/0001-02   \n",
              "1              AUTO POSTO SAKAMOTO LTDA   49.051.667/0001-02   \n",
              "2              AUTO POSTO SAKAMOTO LTDA   49.051.667/0001-02   \n",
              "3  GASOL COMBUSTÍVEIS AUTOMOTIVOS LTDA.   00.603.738/0001-43   \n",
              "4  GASOL COMBUSTÍVEIS AUTOMOTIVOS LTDA.   00.603.738/0001-43   \n",
              "\n",
              "                                   Nome da Rua Numero Rua  \\\n",
              "0                     RODOVIA PRESIDENTE DUTRA        S/N   \n",
              "1                     RODOVIA PRESIDENTE DUTRA        S/N   \n",
              "2                     RODOVIA PRESIDENTE DUTRA        S/N   \n",
              "3  QI-QUADRA INTERNA 18  LOTES 47, 49, 51 E 53        S/N   \n",
              "4  QI-QUADRA INTERNA 18  LOTES 47, 49, 51 E 53        S/N   \n",
              "\n",
              "           Complemento      Bairro        Cep   Produto Data da Coleta  \\\n",
              "0  KM 210,5-SENT SP/RJ  BONSUCESSO  07178-580  GASOLINA     03/01/2012   \n",
              "1  KM 210,5-SENT SP/RJ  BONSUCESSO  07178-580    ETANOL     03/01/2012   \n",
              "2  KM 210,5-SENT SP/RJ  BONSUCESSO  07178-580    DIESEL     03/01/2012   \n",
              "3                  NaN  TAGUATINGA  72315-000  GASOLINA     05/01/2012   \n",
              "4                  NaN  TAGUATINGA  72315-000    ETANOL     05/01/2012   \n",
              "\n",
              "  Valor de Venda Valor de Compra Unidade de Medida  \\\n",
              "0          2,589             NaN        R$ / litro   \n",
              "1          1,969             NaN        R$ / litro   \n",
              "2          1,879             NaN        R$ / litro   \n",
              "3           2,83             NaN        R$ / litro   \n",
              "4           2,27             NaN        R$ / litro   \n",
              "\n",
              "                       Bandeira  \n",
              "0  PETROBRAS DISTRIBUIDORA S.A.  \n",
              "1  PETROBRAS DISTRIBUIDORA S.A.  \n",
              "2  PETROBRAS DISTRIBUIDORA S.A.  \n",
              "3  PETROBRAS DISTRIBUIDORA S.A.  \n",
              "4  PETROBRAS DISTRIBUIDORA S.A.  "
            ]
          },
          "execution_count": 5,
          "metadata": {},
          "output_type": "execute_result"
        }
      ],
      "source": [
        "combustiveis_automotivos_df.head()"
      ]
    },
    {
      "cell_type": "code",
      "execution_count": 6,
      "metadata": {
        "colab": {
          "base_uri": "https://localhost:8080/",
          "height": 354
        },
        "id": "KAygx0WangV-",
        "outputId": "8c425c11-b48a-4384-f6dc-46bf095a38b8"
      },
      "outputs": [
        {
          "data": {
            "text/html": [
              "<div>\n",
              "<style scoped>\n",
              "    .dataframe tbody tr th:only-of-type {\n",
              "        vertical-align: middle;\n",
              "    }\n",
              "\n",
              "    .dataframe tbody tr th {\n",
              "        vertical-align: top;\n",
              "    }\n",
              "\n",
              "    .dataframe thead th {\n",
              "        text-align: right;\n",
              "    }\n",
              "</style>\n",
              "<table border=\"1\" class=\"dataframe\">\n",
              "  <thead>\n",
              "    <tr style=\"text-align: right;\">\n",
              "      <th></th>\n",
              "      <th>Regiao - Sigla</th>\n",
              "      <th>Estado - Sigla</th>\n",
              "      <th>Municipio</th>\n",
              "      <th>Revenda</th>\n",
              "      <th>CNPJ da Revenda</th>\n",
              "      <th>Nome da Rua</th>\n",
              "      <th>Numero Rua</th>\n",
              "      <th>Complemento</th>\n",
              "      <th>Bairro</th>\n",
              "      <th>Cep</th>\n",
              "      <th>Produto</th>\n",
              "      <th>Data da Coleta</th>\n",
              "      <th>Valor de Venda</th>\n",
              "      <th>Valor de Compra</th>\n",
              "      <th>Unidade de Medida</th>\n",
              "      <th>Bandeira</th>\n",
              "    </tr>\n",
              "  </thead>\n",
              "  <tbody>\n",
              "    <tr>\n",
              "      <th>11168705</th>\n",
              "      <td>S</td>\n",
              "      <td>SC</td>\n",
              "      <td>BLUMENAU</td>\n",
              "      <td>POSTO DE COMBUSTIVEIS MAX LTDA</td>\n",
              "      <td>31.603.614/0001-91</td>\n",
              "      <td>RUA BENJAMIN CONSTANT</td>\n",
              "      <td>1320</td>\n",
              "      <td>NaN</td>\n",
              "      <td>ESCOLA AGRICOLA</td>\n",
              "      <td>89037-500</td>\n",
              "      <td>GASOLINA</td>\n",
              "      <td>30/12/2022</td>\n",
              "      <td>5,04</td>\n",
              "      <td>NaN</td>\n",
              "      <td>R$ / litro</td>\n",
              "      <td>MAXSUL</td>\n",
              "    </tr>\n",
              "    <tr>\n",
              "      <th>11168706</th>\n",
              "      <td>S</td>\n",
              "      <td>SC</td>\n",
              "      <td>BLUMENAU</td>\n",
              "      <td>POSTO DE COMBUSTIVEIS MAX LTDA</td>\n",
              "      <td>31.603.614/0001-91</td>\n",
              "      <td>RUA BENJAMIN CONSTANT</td>\n",
              "      <td>1320</td>\n",
              "      <td>NaN</td>\n",
              "      <td>ESCOLA AGRICOLA</td>\n",
              "      <td>89037-500</td>\n",
              "      <td>DIESEL S10</td>\n",
              "      <td>30/12/2022</td>\n",
              "      <td>6,19</td>\n",
              "      <td>NaN</td>\n",
              "      <td>R$ / litro</td>\n",
              "      <td>MAXSUL</td>\n",
              "    </tr>\n",
              "    <tr>\n",
              "      <th>11168707</th>\n",
              "      <td>S</td>\n",
              "      <td>SC</td>\n",
              "      <td>BLUMENAU</td>\n",
              "      <td>REDE DE POSTOS R4 LTDA</td>\n",
              "      <td>03.283.593/0006-43</td>\n",
              "      <td>RUA DAS MISSOES</td>\n",
              "      <td>2426</td>\n",
              "      <td>NaN</td>\n",
              "      <td>NOVA ESPERANCA</td>\n",
              "      <td>89051-305</td>\n",
              "      <td>GASOLINA ADITIVADA</td>\n",
              "      <td>30/12/2022</td>\n",
              "      <td>5,31</td>\n",
              "      <td>NaN</td>\n",
              "      <td>R$ / litro</td>\n",
              "      <td>VIBRA ENERGIA</td>\n",
              "    </tr>\n",
              "    <tr>\n",
              "      <th>11168708</th>\n",
              "      <td>S</td>\n",
              "      <td>SC</td>\n",
              "      <td>BLUMENAU</td>\n",
              "      <td>REDE DE POSTOS R4 LTDA</td>\n",
              "      <td>03.283.593/0006-43</td>\n",
              "      <td>RUA DAS MISSOES</td>\n",
              "      <td>2426</td>\n",
              "      <td>NaN</td>\n",
              "      <td>NOVA ESPERANCA</td>\n",
              "      <td>89051-305</td>\n",
              "      <td>GASOLINA</td>\n",
              "      <td>30/12/2022</td>\n",
              "      <td>5,11</td>\n",
              "      <td>NaN</td>\n",
              "      <td>R$ / litro</td>\n",
              "      <td>VIBRA ENERGIA</td>\n",
              "    </tr>\n",
              "    <tr>\n",
              "      <th>11168709</th>\n",
              "      <td>S</td>\n",
              "      <td>SC</td>\n",
              "      <td>BLUMENAU</td>\n",
              "      <td>FISCHER COMBUSTIVEL EIRELI</td>\n",
              "      <td>31.713.751/0002-60</td>\n",
              "      <td>RUA SETE DE SETEMBRO</td>\n",
              "      <td>780</td>\n",
              "      <td>POSTO</td>\n",
              "      <td>CENTRO</td>\n",
              "      <td>89010-200</td>\n",
              "      <td>GASOLINA</td>\n",
              "      <td>30/12/2022</td>\n",
              "      <td>5,09</td>\n",
              "      <td>NaN</td>\n",
              "      <td>R$ / litro</td>\n",
              "      <td>IPIRANGA</td>\n",
              "    </tr>\n",
              "  </tbody>\n",
              "</table>\n",
              "</div>"
            ],
            "text/plain": [
              "         Regiao - Sigla Estado - Sigla Municipio  \\\n",
              "11168705              S             SC  BLUMENAU   \n",
              "11168706              S             SC  BLUMENAU   \n",
              "11168707              S             SC  BLUMENAU   \n",
              "11168708              S             SC  BLUMENAU   \n",
              "11168709              S             SC  BLUMENAU   \n",
              "\n",
              "                                 Revenda      CNPJ da Revenda  \\\n",
              "11168705  POSTO DE COMBUSTIVEIS MAX LTDA   31.603.614/0001-91   \n",
              "11168706  POSTO DE COMBUSTIVEIS MAX LTDA   31.603.614/0001-91   \n",
              "11168707          REDE DE POSTOS R4 LTDA   03.283.593/0006-43   \n",
              "11168708          REDE DE POSTOS R4 LTDA   03.283.593/0006-43   \n",
              "11168709      FISCHER COMBUSTIVEL EIRELI   31.713.751/0002-60   \n",
              "\n",
              "                    Nome da Rua Numero Rua Complemento           Bairro  \\\n",
              "11168705  RUA BENJAMIN CONSTANT       1320         NaN  ESCOLA AGRICOLA   \n",
              "11168706  RUA BENJAMIN CONSTANT       1320         NaN  ESCOLA AGRICOLA   \n",
              "11168707        RUA DAS MISSOES       2426         NaN   NOVA ESPERANCA   \n",
              "11168708        RUA DAS MISSOES       2426         NaN   NOVA ESPERANCA   \n",
              "11168709   RUA SETE DE SETEMBRO        780       POSTO           CENTRO   \n",
              "\n",
              "                Cep             Produto Data da Coleta Valor de Venda  \\\n",
              "11168705  89037-500            GASOLINA     30/12/2022           5,04   \n",
              "11168706  89037-500          DIESEL S10     30/12/2022           6,19   \n",
              "11168707  89051-305  GASOLINA ADITIVADA     30/12/2022           5,31   \n",
              "11168708  89051-305            GASOLINA     30/12/2022           5,11   \n",
              "11168709  89010-200            GASOLINA     30/12/2022           5,09   \n",
              "\n",
              "         Valor de Compra Unidade de Medida       Bandeira  \n",
              "11168705             NaN        R$ / litro         MAXSUL  \n",
              "11168706             NaN        R$ / litro         MAXSUL  \n",
              "11168707             NaN        R$ / litro  VIBRA ENERGIA  \n",
              "11168708             NaN        R$ / litro  VIBRA ENERGIA  \n",
              "11168709             NaN        R$ / litro       IPIRANGA  "
            ]
          },
          "execution_count": 6,
          "metadata": {},
          "output_type": "execute_result"
        }
      ],
      "source": [
        "combustiveis_automotivos_df.tail()"
      ]
    },
    {
      "cell_type": "code",
      "execution_count": 7,
      "metadata": {
        "colab": {
          "base_uri": "https://localhost:8080/"
        },
        "id": "Q8AIfODcn0TN",
        "outputId": "8fa28c2b-8206-43f5-c738-77011b8d696b"
      },
      "outputs": [
        {
          "data": {
            "text/plain": [
              "Index(['Regiao - Sigla', 'Estado - Sigla', 'Municipio', 'Revenda',\n",
              "       'CNPJ da Revenda', 'Nome da Rua', 'Numero Rua', 'Complemento', 'Bairro',\n",
              "       'Cep', 'Produto', 'Data da Coleta', 'Valor de Venda', 'Valor de Compra',\n",
              "       'Unidade de Medida', 'Bandeira'],\n",
              "      dtype='object')"
            ]
          },
          "execution_count": 7,
          "metadata": {},
          "output_type": "execute_result"
        }
      ],
      "source": [
        "combustiveis_automotivos_df.columns"
      ]
    },
    {
      "cell_type": "code",
      "execution_count": null,
      "metadata": {},
      "outputs": [],
      "source": [
        "combustiveis_automotivos_df.isnull().sum()"
      ]
    },
    {
      "cell_type": "code",
      "execution_count": 8,
      "metadata": {
        "colab": {
          "base_uri": "https://localhost:8080/",
          "height": 408
        },
        "id": "loGxaqsKn5ls",
        "outputId": "29ae1be7-2b91-4933-c7c0-1897ddd96c2f"
      },
      "outputs": [],
      "source": [
        "combustiveis_automotivos_df = combustiveis_automotivos_df.drop(['Revenda',\n",
        "                                                                'CNPJ da Revenda',\n",
        "                                                                'Nome da Rua',\n",
        "                                                                'Numero Rua',\n",
        "                                                                'Complemento',\n",
        "                                                                'Bairro',\n",
        "                                                                'Cep',\n",
        "                                                                'Valor de Compra'\n",
        "], axis=1)"
      ]
    },
    {
      "cell_type": "code",
      "execution_count": 9,
      "metadata": {
        "colab": {
          "base_uri": "https://localhost:8080/",
          "height": 354
        },
        "id": "inXekzZcovLn",
        "outputId": "fcaf71ad-9efb-47b5-aab9-f1b23e77aa6f"
      },
      "outputs": [
        {
          "data": {
            "text/html": [
              "<div>\n",
              "<style scoped>\n",
              "    .dataframe tbody tr th:only-of-type {\n",
              "        vertical-align: middle;\n",
              "    }\n",
              "\n",
              "    .dataframe tbody tr th {\n",
              "        vertical-align: top;\n",
              "    }\n",
              "\n",
              "    .dataframe thead th {\n",
              "        text-align: right;\n",
              "    }\n",
              "</style>\n",
              "<table border=\"1\" class=\"dataframe\">\n",
              "  <thead>\n",
              "    <tr style=\"text-align: right;\">\n",
              "      <th></th>\n",
              "      <th>Regiao - Sigla</th>\n",
              "      <th>Estado - Sigla</th>\n",
              "      <th>Municipio</th>\n",
              "      <th>Produto</th>\n",
              "      <th>Data da Coleta</th>\n",
              "      <th>Valor de Venda</th>\n",
              "      <th>Unidade de Medida</th>\n",
              "      <th>Bandeira</th>\n",
              "    </tr>\n",
              "  </thead>\n",
              "  <tbody>\n",
              "    <tr>\n",
              "      <th>0</th>\n",
              "      <td>SE</td>\n",
              "      <td>SP</td>\n",
              "      <td>GUARULHOS</td>\n",
              "      <td>GASOLINA</td>\n",
              "      <td>03/01/2012</td>\n",
              "      <td>2,589</td>\n",
              "      <td>R$ / litro</td>\n",
              "      <td>PETROBRAS DISTRIBUIDORA S.A.</td>\n",
              "    </tr>\n",
              "    <tr>\n",
              "      <th>1</th>\n",
              "      <td>SE</td>\n",
              "      <td>SP</td>\n",
              "      <td>GUARULHOS</td>\n",
              "      <td>ETANOL</td>\n",
              "      <td>03/01/2012</td>\n",
              "      <td>1,969</td>\n",
              "      <td>R$ / litro</td>\n",
              "      <td>PETROBRAS DISTRIBUIDORA S.A.</td>\n",
              "    </tr>\n",
              "    <tr>\n",
              "      <th>2</th>\n",
              "      <td>SE</td>\n",
              "      <td>SP</td>\n",
              "      <td>GUARULHOS</td>\n",
              "      <td>DIESEL</td>\n",
              "      <td>03/01/2012</td>\n",
              "      <td>1,879</td>\n",
              "      <td>R$ / litro</td>\n",
              "      <td>PETROBRAS DISTRIBUIDORA S.A.</td>\n",
              "    </tr>\n",
              "    <tr>\n",
              "      <th>3</th>\n",
              "      <td>CO</td>\n",
              "      <td>DF</td>\n",
              "      <td>BRASILIA</td>\n",
              "      <td>GASOLINA</td>\n",
              "      <td>05/01/2012</td>\n",
              "      <td>2,83</td>\n",
              "      <td>R$ / litro</td>\n",
              "      <td>PETROBRAS DISTRIBUIDORA S.A.</td>\n",
              "    </tr>\n",
              "    <tr>\n",
              "      <th>4</th>\n",
              "      <td>CO</td>\n",
              "      <td>DF</td>\n",
              "      <td>BRASILIA</td>\n",
              "      <td>ETANOL</td>\n",
              "      <td>05/01/2012</td>\n",
              "      <td>2,27</td>\n",
              "      <td>R$ / litro</td>\n",
              "      <td>PETROBRAS DISTRIBUIDORA S.A.</td>\n",
              "    </tr>\n",
              "  </tbody>\n",
              "</table>\n",
              "</div>"
            ],
            "text/plain": [
              "  Regiao - Sigla Estado - Sigla  Municipio   Produto Data da Coleta  \\\n",
              "0             SE             SP  GUARULHOS  GASOLINA     03/01/2012   \n",
              "1             SE             SP  GUARULHOS    ETANOL     03/01/2012   \n",
              "2             SE             SP  GUARULHOS    DIESEL     03/01/2012   \n",
              "3             CO             DF   BRASILIA  GASOLINA     05/01/2012   \n",
              "4             CO             DF   BRASILIA    ETANOL     05/01/2012   \n",
              "\n",
              "  Valor de Venda Unidade de Medida                      Bandeira  \n",
              "0          2,589        R$ / litro  PETROBRAS DISTRIBUIDORA S.A.  \n",
              "1          1,969        R$ / litro  PETROBRAS DISTRIBUIDORA S.A.  \n",
              "2          1,879        R$ / litro  PETROBRAS DISTRIBUIDORA S.A.  \n",
              "3           2,83        R$ / litro  PETROBRAS DISTRIBUIDORA S.A.  \n",
              "4           2,27        R$ / litro  PETROBRAS DISTRIBUIDORA S.A.  "
            ]
          },
          "execution_count": 9,
          "metadata": {},
          "output_type": "execute_result"
        }
      ],
      "source": [
        "combustiveis_automotivos_df.head()"
      ]
    },
    {
      "cell_type": "code",
      "execution_count": 10,
      "metadata": {
        "colab": {
          "base_uri": "https://localhost:8080/"
        },
        "id": "EUi-j-Lz2zj0",
        "outputId": "c8a42f37-9869-4e07-8ec8-84e5b9e2a0e9"
      },
      "outputs": [],
      "source": [
        "combustiveis_automotivos_df = combustiveis_automotivos_df.dropna(axis=0)"
      ]
    },
    {
      "cell_type": "code",
      "execution_count": 12,
      "metadata": {},
      "outputs": [
        {
          "data": {
            "text/plain": [
              "Regiao - Sigla       0\n",
              "Estado - Sigla       0\n",
              "Municipio            0\n",
              "Produto              0\n",
              "Data da Coleta       0\n",
              "Valor de Venda       0\n",
              "Unidade de Medida    0\n",
              "Bandeira             0\n",
              "dtype: int64"
            ]
          },
          "execution_count": 12,
          "metadata": {},
          "output_type": "execute_result"
        }
      ],
      "source": [
        "combustiveis_automotivos_df.isnull().sum()"
      ]
    },
    {
      "cell_type": "code",
      "execution_count": 13,
      "metadata": {},
      "outputs": [
        {
          "data": {
            "text/plain": [
              "(11168709, 8)"
            ]
          },
          "execution_count": 13,
          "metadata": {},
          "output_type": "execute_result"
        }
      ],
      "source": [
        "combustiveis_automotivos_df.shape"
      ]
    },
    {
      "cell_type": "code",
      "execution_count": 14,
      "metadata": {},
      "outputs": [
        {
          "name": "stdout",
          "output_type": "stream",
          "text": [
            "<class 'pandas.core.frame.DataFrame'>\n",
            "Index: 11168709 entries, 0 to 11168709\n",
            "Data columns (total 8 columns):\n",
            " #   Column             Dtype \n",
            "---  ------             ----- \n",
            " 0   Regiao - Sigla     object\n",
            " 1   Estado - Sigla     object\n",
            " 2   Municipio          object\n",
            " 3   Produto            object\n",
            " 4   Data da Coleta     object\n",
            " 5   Valor de Venda     object\n",
            " 6   Unidade de Medida  object\n",
            " 7   Bandeira           object\n",
            "dtypes: object(8)\n",
            "memory usage: 766.9+ MB\n"
          ]
        }
      ],
      "source": [
        "combustiveis_automotivos_df.info()"
      ]
    },
    {
      "cell_type": "code",
      "execution_count": 17,
      "metadata": {},
      "outputs": [
        {
          "name": "stdout",
          "output_type": "stream",
          "text": [
            "<class 'pandas.core.frame.DataFrame'>\n",
            "Index: 11168709 entries, 0 to 11168709\n",
            "Data columns (total 9 columns):\n",
            " #   Column             Dtype         \n",
            "---  ------             -----         \n",
            " 0   Regiao - Sigla     object        \n",
            " 1   Estado - Sigla     object        \n",
            " 2   Municipio          object        \n",
            " 3   Produto            object        \n",
            " 4   Data da Coleta     datetime64[ns]\n",
            " 5   Valor de Venda     object        \n",
            " 6   Unidade de Medida  object        \n",
            " 7   Bandeira           object        \n",
            " 8   valor_venda        float64       \n",
            "dtypes: datetime64[ns](1), float64(1), object(7)\n",
            "memory usage: 852.1+ MB\n"
          ]
        }
      ],
      "source": [
        "formato_data = '%d/%m/%Y'  # Formato dia/mês/ano\n",
        "combustiveis_automotivos_df['Data da Coleta'] = pd.to_datetime(combustiveis_automotivos_df['Data da Coleta'], format=formato_data)\n",
        "\n",
        "# Convertendo a coluna 'Valor de Venda' para float\n",
        "combustiveis_automotivos_df['valor_venda'] = combustiveis_automotivos_df['Valor de Venda'].str.replace(',', '.').astype(float)\n",
        "\n",
        "# Exibindo informações do DataFrame\n",
        "combustiveis_automotivos_df.info()\n"
      ]
    },
    {
      "cell_type": "code",
      "execution_count": 30,
      "metadata": {},
      "outputs": [],
      "source": [
        "analise_valor_vendas = combustiveis_automotivos_df['valor_venda'].describe().transpose()"
      ]
    },
    {
      "cell_type": "code",
      "execution_count": 31,
      "metadata": {},
      "outputs": [
        {
          "data": {
            "text/plain": [
              "count    1.116871e+07\n",
              "mean     3.417548e+00\n",
              "std      1.257847e+00\n",
              "min      1.009000e+00\n",
              "25%      2.579000e+00\n",
              "50%      3.090000e+00\n",
              "75%      3.890000e+00\n",
              "max      9.650000e+00\n",
              "Name: valor_venda, dtype: float64"
            ]
          },
          "execution_count": 31,
          "metadata": {},
          "output_type": "execute_result"
        }
      ],
      "source": [
        "analise_valor_vendas"
      ]
    },
    {
      "cell_type": "code",
      "execution_count": 39,
      "metadata": {},
      "outputs": [
        {
          "data": {
            "image/png": "[encoded data removed]",
            "text/plain": [
              "<Figure size 640x480 with 1 Axes>"
            ]
          },
          "metadata": {},
          "output_type": "display_data"
        }
      ],
      "source": [
        "# Limpa a coluna 'Valor de Venda' e converte para float\n",
        "combustiveis_automotivos_df['Valor de Venda'] = pd.to_numeric(combustiveis_automotivos_df['Valor de Venda'], errors='coerce')\n",
        "\n",
        "# Remove linhas com valores ausentes em 'Valor de Venda'\n",
        "combustiveis_automotivos_df = combustiveis_automotivos_df.dropna(subset=['Valor de Venda'])\n",
        "\n",
        "# Calcula a distribuição dos valores de venda\n",
        "hist, edges = np.histogram(combustiveis_automotivos_df['Valor de Venda'], bins=20, density=True)\n",
        "bin_labels = [f\"{edges[i]:.2f} - {edges[i+1]:.2f}\" for i in range(len(edges)-1)]\n",
        "combustiveis_automotivos_df['distribuicao_vendas'] = pd.cut(combustiveis_automotivos_df['Valor de Venda'], bins=edges, labels=bin_labels, include_lowest=True)\n",
        "\n",
        "# Plota o histograma da distribuição de valores de venda\n",
        "plt.hist(combustiveis_automotivos_df['Valor de Venda'], bins=20, density=True, alpha=0.7)\n",
        "plt.xlabel('Valor de Venda')\n",
        "plt.ylabel('Densidade')\n",
        "plt.title('Distribuição de Valores de Venda')\n",
        "plt.show()\n"
      ]
    },
    {
      "cell_type": "code",
      "execution_count": 42,
      "metadata": {},
      "outputs": [
        {
          "data": {
            "image/png": "[encoded data removed]",
            "text/plain": [
              "<Figure size 1000x600 with 1 Axes>"
            ]
          },
          "metadata": {},
          "output_type": "display_data"
        }
      ],
      "source": [
        "# Limpa a coluna 'Valor de Venda' e converte para float\n",
        "combustiveis_automotivos_df['Valor de Venda'] = pd.to_numeric(combustiveis_automotivos_df['Valor de Venda'], errors='coerce')\n",
        "\n",
        "# Remove linhas com valores ausentes em 'Valor de Venda'\n",
        "combustiveis_automotivos_df = combustiveis_automotivos_df.dropna(subset=['Valor de Venda'])\n",
        "\n",
        "# Extrai o ano da coluna 'Data da Coleta'\n",
        "combustiveis_automotivos_df['Ano'] = combustiveis_automotivos_df['Data da Coleta'].dt.year\n",
        "\n",
        "# Configuração de estilo Seaborn\n",
        "sns.set_style(\"whitegrid\")\n",
        "sns.set_palette(\"Set1\")\n",
        "\n",
        "# Criação do gráfico de box plot\n",
        "plt.figure(figsize=(10, 6))\n",
        "ax = sns.boxplot(data=combustiveis_automotivos_df, x='Ano', y='Valor de Venda', palette='Set1')\n",
        "\n",
        "# Título e rótulos\n",
        "plt.title('Distribuição dos Valores de Venda por Ano (Box Plot)', fontsize=16)\n",
        "plt.xlabel('Ano', fontsize=12)\n",
        "plt.ylabel('Valor de Venda', fontsize=12)\n",
        "sns.despine(left=True)\n",
        "ax.yaxis.tick_left()\n",
        "ax.xaxis.tick_bottom()\n",
        "plt.xticks(rotation=45, fontsize=10)\n",
        "plt.yticks(fontsize=10)\n",
        "plt.tight_layout()\n",
        "\n",
        "# Exibir o gráfico\n",
        "plt.show()"
      ]
    },
    {
      "cell_type": "code",
      "execution_count": 45,
      "metadata": {},
      "outputs": [
        {
          "data": {
            "text/plain": [
              "Index(['Regiao - Sigla', 'Estado - Sigla', 'Municipio', 'Produto',\n",
              "       'Data da Coleta', 'Valor de Venda', 'Unidade de Medida', 'Bandeira',\n",
              "       'valor_venda', 'distribuicao_vendas', 'Ano'],\n",
              "      dtype='object')"
            ]
          },
          "execution_count": 45,
          "metadata": {},
          "output_type": "execute_result"
        }
      ],
      "source": [
        "combustiveis_automotivos_df.columns"
      ]
    },
    {
      "cell_type": "code",
      "execution_count": 48,
      "metadata": {},
      "outputs": [
        {
          "data": {
            "text/html": [
              "<div>\n",
              "<style scoped>\n",
              "    .dataframe tbody tr th:only-of-type {\n",
              "        vertical-align: middle;\n",
              "    }\n",
              "\n",
              "    .dataframe tbody tr th {\n",
              "        vertical-align: top;\n",
              "    }\n",
              "\n",
              "    .dataframe thead th {\n",
              "        text-align: right;\n",
              "    }\n",
              "</style>\n",
              "<table border=\"1\" class=\"dataframe\">\n",
              "  <thead>\n",
              "    <tr style=\"text-align: right;\">\n",
              "      <th></th>\n",
              "      <th>Regiao - Sigla</th>\n",
              "      <th>Estado - Sigla</th>\n",
              "      <th>Municipio</th>\n",
              "      <th>Produto</th>\n",
              "      <th>Valor de Venda</th>\n",
              "      <th>Unidade de Medida</th>\n",
              "      <th>Bandeira</th>\n",
              "      <th>valor_venda</th>\n",
              "      <th>distribuicao_vendas</th>\n",
              "      <th>Ano</th>\n",
              "    </tr>\n",
              "    <tr>\n",
              "      <th>Data da Coleta</th>\n",
              "      <th></th>\n",
              "      <th></th>\n",
              "      <th></th>\n",
              "      <th></th>\n",
              "      <th></th>\n",
              "      <th></th>\n",
              "      <th></th>\n",
              "      <th></th>\n",
              "      <th></th>\n",
              "      <th></th>\n",
              "    </tr>\n",
              "  </thead>\n",
              "  <tbody>\n",
              "    <tr>\n",
              "      <th>2012-01-02</th>\n",
              "      <td>NE</td>\n",
              "      <td>AL</td>\n",
              "      <td>SANTANA DO IPANEMA</td>\n",
              "      <td>ETANOL</td>\n",
              "      <td>2.0</td>\n",
              "      <td>R$ / litro</td>\n",
              "      <td>SETTA DISTRIBUIDORA</td>\n",
              "      <td>2.0</td>\n",
              "      <td>2.00 - 2.35</td>\n",
              "      <td>2012</td>\n",
              "    </tr>\n",
              "    <tr>\n",
              "      <th>2012-01-03</th>\n",
              "      <td>N</td>\n",
              "      <td>AM</td>\n",
              "      <td>ITACOATIARA</td>\n",
              "      <td>GASOLINA</td>\n",
              "      <td>3.0</td>\n",
              "      <td>R$ / litro</td>\n",
              "      <td>BRANCA</td>\n",
              "      <td>3.0</td>\n",
              "      <td>2.70 - 3.05</td>\n",
              "      <td>2012</td>\n",
              "    </tr>\n",
              "    <tr>\n",
              "      <th>2012-01-03</th>\n",
              "      <td>N</td>\n",
              "      <td>AM</td>\n",
              "      <td>ITACOATIARA</td>\n",
              "      <td>GASOLINA</td>\n",
              "      <td>3.0</td>\n",
              "      <td>R$ / litro</td>\n",
              "      <td>DNP</td>\n",
              "      <td>3.0</td>\n",
              "      <td>2.70 - 3.05</td>\n",
              "      <td>2012</td>\n",
              "    </tr>\n",
              "    <tr>\n",
              "      <th>2012-01-03</th>\n",
              "      <td>N</td>\n",
              "      <td>AM</td>\n",
              "      <td>ITACOATIARA</td>\n",
              "      <td>GASOLINA</td>\n",
              "      <td>3.0</td>\n",
              "      <td>R$ / litro</td>\n",
              "      <td>BRANCA</td>\n",
              "      <td>3.0</td>\n",
              "      <td>2.70 - 3.05</td>\n",
              "      <td>2012</td>\n",
              "    </tr>\n",
              "    <tr>\n",
              "      <th>2012-01-02</th>\n",
              "      <td>N</td>\n",
              "      <td>AP</td>\n",
              "      <td>PORTO GRANDE</td>\n",
              "      <td>GASOLINA</td>\n",
              "      <td>3.0</td>\n",
              "      <td>R$ / litro</td>\n",
              "      <td>BRANCA</td>\n",
              "      <td>3.0</td>\n",
              "      <td>2.70 - 3.05</td>\n",
              "      <td>2012</td>\n",
              "    </tr>\n",
              "  </tbody>\n",
              "</table>\n",
              "</div>"
            ],
            "text/plain": [
              "               Regiao - Sigla Estado - Sigla           Municipio   Produto  \\\n",
              "Data da Coleta                                                               \n",
              "2012-01-02                 NE             AL  SANTANA DO IPANEMA    ETANOL   \n",
              "2012-01-03                  N             AM         ITACOATIARA  GASOLINA   \n",
              "2012-01-03                  N             AM         ITACOATIARA  GASOLINA   \n",
              "2012-01-03                  N             AM         ITACOATIARA  GASOLINA   \n",
              "2012-01-02                  N             AP        PORTO GRANDE  GASOLINA   \n",
              "\n",
              "                Valor de Venda Unidade de Medida             Bandeira  \\\n",
              "Data da Coleta                                                          \n",
              "2012-01-02                 2.0        R$ / litro  SETTA DISTRIBUIDORA   \n",
              "2012-01-03                 3.0        R$ / litro               BRANCA   \n",
              "2012-01-03                 3.0        R$ / litro                  DNP   \n",
              "2012-01-03                 3.0        R$ / litro               BRANCA   \n",
              "2012-01-02                 3.0        R$ / litro               BRANCA   \n",
              "\n",
              "                valor_venda distribuicao_vendas   Ano  \n",
              "Data da Coleta                                         \n",
              "2012-01-02              2.0         2.00 - 2.35  2012  \n",
              "2012-01-03              3.0         2.70 - 3.05  2012  \n",
              "2012-01-03              3.0         2.70 - 3.05  2012  \n",
              "2012-01-03              3.0         2.70 - 3.05  2012  \n",
              "2012-01-02              3.0         2.70 - 3.05  2012  "
            ]
          },
          "execution_count": 48,
          "metadata": {},
          "output_type": "execute_result"
        }
      ],
      "source": [
        "combustiveis_automotivos_df = combustiveis_automotivos_df.set_index('Data da Coleta')\n",
        "combustiveis_automotivos_df.head()"
      ]
    }
  ],
  "metadata": {
    "colab": {
      "provenance": []
    },
    "kernelspec": {
      "display_name": ".venv",
      "language": "python",
      "name": "python3"
    },
    "language_info": {
      "codemirror_mode": {
        "name": "ipython",
        "version": 3
      },
      "file_extension": ".py",
      "mimetype": "text/x-python",
      "name": "python",
      "nbconvert_exporter": "python",
      "pygments_lexer": "ipython3",
      "version": "3.11.4"
    },
    "orig_nbformat": 4,
    "widgets": {
      "application/vnd.jupyter.widget-state+json": {
        "2cbabe88077a46c9aca826173e5ae10a": {
          "model_module": "@jupyter-widgets/controls",
          "model_module_version": "1.5.0",
          "model_name": "HTMLModel",
          "state": {
            "_dom_classes": [],
            "_model_module": "@jupyter-widgets/controls",
            "_model_module_version": "1.5.0",
            "_model_name": "HTMLModel",
            "_view_count": null,
            "_view_module": "@jupyter-widgets/controls",
            "_view_module_version": "1.5.0",
            "_view_name": "HTMLView",
            "description": "",
            "description_tooltip": null,
            "layout": "IPY_MODEL_3972db9ae34647918aff9dab3d805356",
            "placeholder": "​",
            "style": "IPY_MODEL_364aef66825c4c8b955247881d480f5d",
            "value": "Lendo arquivos CSV: 100%"
          }
        },
        "364aef66825c4c8b955247881d480f5d": {
          "model_module": "@jupyter-widgets/controls",
          "model_module_version": "1.5.0",
          "model_name": "DescriptionStyleModel",
          "state": {
            "_model_module": "@jupyter-widgets/controls",
            "_model_module_version": "1.5.0",
            "_model_name": "DescriptionStyleModel",
            "_view_count": null,
            "_view_module": "@jupyter-widgets/base",
            "_view_module_version": "1.2.0",
            "_view_name": "StyleView",
            "description_width": ""
          }
        },
        "3972db9ae34647918aff9dab3d805356": {
          "model_module": "@jupyter-widgets/base",
          "model_module_version": "1.2.0",
          "model_name": "LayoutModel",
          "state": {
            "_model_module": "@jupyter-widgets/base",
            "_model_module_version": "1.2.0",
            "_model_name": "LayoutModel",
            "_view_count": null,
            "_view_module": "@jupyter-widgets/base",
            "_view_module_version": "1.2.0",
            "_view_name": "LayoutView",
            "align_content": null,
            "align_items": null,
            "align_self": null,
            "border": null,
            "bottom": null,
            "display": null,
            "flex": null,
            "flex_flow": null,
            "grid_area": null,
            "grid_auto_columns": null,
            "grid_auto_flow": null,
            "grid_auto_rows": null,
            "grid_column": null,
            "grid_gap": null,
            "grid_row": null,
            "grid_template_areas": null,
            "grid_template_columns": null,
            "grid_template_rows": null,
            "height": null,
            "justify_content": null,
            "justify_items": null,
            "left": null,
            "margin": null,
            "max_height": null,
            "max_width": null,
            "min_height": null,
            "min_width": null,
            "object_fit": null,
            "object_position": null,
            "order": null,
            "overflow": null,
            "overflow_x": null,
            "overflow_y": null,
            "padding": null,
            "right": null,
            "top": null,
            "visibility": null,
            "width": null
          }
        },
        "608b8d2ff8fe459cbc796c3334117918": {
          "model_module": "@jupyter-widgets/controls",
          "model_module_version": "1.5.0",
          "model_name": "FloatProgressModel",
          "state": {
            "_dom_classes": [],
            "_model_module": "@jupyter-widgets/controls",
            "_model_module_version": "1.5.0",
            "_model_name": "FloatProgressModel",
            "_view_count": null,
            "_view_module": "@jupyter-widgets/controls",
            "_view_module_version": "1.5.0",
            "_view_name": "ProgressView",
            "bar_style": "success",
            "description": "",
            "description_tooltip": null,
            "layout": "IPY_MODEL_7697c062a78b439ca5af4d14995dd7a3",
            "max": 38,
            "min": 0,
            "orientation": "horizontal",
            "style": "IPY_MODEL_a2dc743f50b74210a94166dca891f3f0",
            "value": 38
          }
        },
        "63017aa71a184bc6b0473fc7d1903b3c": {
          "model_module": "@jupyter-widgets/controls",
          "model_module_version": "1.5.0",
          "model_name": "HBoxModel",
          "state": {
            "_dom_classes": [],
            "_model_module": "@jupyter-widgets/controls",
            "_model_module_version": "1.5.0",
            "_model_name": "HBoxModel",
            "_view_count": null,
            "_view_module": "@jupyter-widgets/controls",
            "_view_module_version": "1.5.0",
            "_view_name": "HBoxView",
            "box_style": "",
            "children": [
              "IPY_MODEL_2cbabe88077a46c9aca826173e5ae10a",
              "IPY_MODEL_608b8d2ff8fe459cbc796c3334117918",
              "IPY_MODEL_93a052ed38c84fbb963eb0af36807c0e"
            ],
            "layout": "IPY_MODEL_fb83d8a3320a4e2d9479e75e38755552"
          }
        },
        "7697c062a78b439ca5af4d14995dd7a3": {
          "model_module": "@jupyter-widgets/base",
          "model_module_version": "1.2.0",
          "model_name": "LayoutModel",
          "state": {
            "_model_module": "@jupyter-widgets/base",
            "_model_module_version": "1.2.0",
            "_model_name": "LayoutModel",
            "_view_count": null,
            "_view_module": "@jupyter-widgets/base",
            "_view_module_version": "1.2.0",
            "_view_name": "LayoutView",
            "align_content": null,
            "align_items": null,
            "align_self": null,
            "border": null,
            "bottom": null,
            "display": null,
            "flex": null,
            "flex_flow": null,
            "grid_area": null,
            "grid_auto_columns": null,
            "grid_auto_flow": null,
            "grid_auto_rows": null,
            "grid_column": null,
            "grid_gap": null,
            "grid_row": null,
            "grid_template_areas": null,
            "grid_template_columns": null,
            "grid_template_rows": null,
            "height": null,
            "justify_content": null,
            "justify_items": null,
            "left": null,
            "margin": null,
            "max_height": null,
            "max_width": null,
            "min_height": null,
            "min_width": null,
            "object_fit": null,
            "object_position": null,
            "order": null,
            "overflow": null,
            "overflow_x": null,
            "overflow_y": null,
            "padding": null,
            "right": null,
            "top": null,
            "visibility": null,
            "width": null
          }
        },
        "9223cad21c784433bf663bfba67f9967": {
          "model_module": "@jupyter-widgets/controls",
          "model_module_version": "1.5.0",
          "model_name": "DescriptionStyleModel",
          "state": {
            "_model_module": "@jupyter-widgets/controls",
            "_model_module_version": "1.5.0",
            "_model_name": "DescriptionStyleModel",
            "_view_count": null,
            "_view_module": "@jupyter-widgets/base",
            "_view_module_version": "1.2.0",
            "_view_name": "StyleView",
            "description_width": ""
          }
        },
        "93a052ed38c84fbb963eb0af36807c0e": {
          "model_module": "@jupyter-widgets/controls",
          "model_module_version": "1.5.0",
          "model_name": "HTMLModel",
          "state": {
            "_dom_classes": [],
            "_model_module": "@jupyter-widgets/controls",
            "_model_module_version": "1.5.0",
            "_model_name": "HTMLModel",
            "_view_count": null,
            "_view_module": "@jupyter-widgets/controls",
            "_view_module_version": "1.5.0",
            "_view_name": "HTMLView",
            "description": "",
            "description_tooltip": null,
            "layout": "IPY_MODEL_faea059263f54e2baaba776e6b654ef4",
            "placeholder": "​",
            "style": "IPY_MODEL_9223cad21c784433bf663bfba67f9967",
            "value": " 38/38 [01:49&lt;00:00,  3.04s/it]"
          }
        },
        "a2dc743f50b74210a94166dca891f3f0": {
          "model_module": "@jupyter-widgets/controls",
          "model_module_version": "1.5.0",
          "model_name": "ProgressStyleModel",
          "state": {
            "_model_module": "@jupyter-widgets/controls",
            "_model_module_version": "1.5.0",
            "_model_name": "ProgressStyleModel",
            "_view_count": null,
            "_view_module": "@jupyter-widgets/base",
            "_view_module_version": "1.2.0",
            "_view_name": "StyleView",
            "bar_color": null,
            "description_width": ""
          }
        },
        "faea059263f54e2baaba776e6b654ef4": {
          "model_module": "@jupyter-widgets/base",
          "model_module_version": "1.2.0",
          "model_name": "LayoutModel",
          "state": {
            "_model_module": "@jupyter-widgets/base",
            "_model_module_version": "1.2.0",
            "_model_name": "LayoutModel",
            "_view_count": null,
            "_view_module": "@jupyter-widgets/base",
            "_view_module_version": "1.2.0",
            "_view_name": "LayoutView",
            "align_content": null,
            "align_items": null,
            "align_self": null,
            "border": null,
            "bottom": null,
            "display": null,
            "flex": null,
            "flex_flow": null,
            "grid_area": null,
            "grid_auto_columns": null,
            "grid_auto_flow": null,
            "grid_auto_rows": null,
            "grid_column": null,
            "grid_gap": null,
            "grid_row": null,
            "grid_template_areas": null,
            "grid_template_columns": null,
            "grid_template_rows": null,
            "height": null,
            "justify_content": null,
            "justify_items": null,
            "left": null,
            "margin": null,
            "max_height": null,
            "max_width": null,
            "min_height": null,
            "min_width": null,
            "object_fit": null,
            "object_position": null,
            "order": null,
            "overflow": null,
            "overflow_x": null,
            "overflow_y": null,
            "padding": null,
            "right": null,
            "top": null,
            "visibility": null,
            "width": null
          }
        },
        "fb83d8a3320a4e2d9479e75e38755552": {
          "model_module": "@jupyter-widgets/base",
          "model_module_version": "1.2.0",
          "model_name": "LayoutModel",
          "state": {
            "_model_module": "@jupyter-widgets/base",
            "_model_module_version": "1.2.0",
            "_model_name": "LayoutModel",
            "_view_count": null,
            "_view_module": "@jupyter-widgets/base",
            "_view_module_version": "1.2.0",
            "_view_name": "LayoutView",
            "align_content": null,
            "align_items": null,
            "align_self": null,
            "border": null,
            "bottom": null,
            "display": null,
            "flex": null,
            "flex_flow": null,
            "grid_area": null,
            "grid_auto_columns": null,
            "grid_auto_flow": null,
            "grid_auto_rows": null,
            "grid_column": null,
            "grid_gap": null,
            "grid_row": null,
            "grid_template_areas": null,
            "grid_template_columns": null,
            "grid_template_rows": null,
            "height": null,
            "justify_content": null,
            "justify_items": null,
            "left": null,
            "margin": null,
            "max_height": null,
            "max_width": null,
            "min_height": null,
            "min_width": null,
            "object_fit": null,
            "object_position": null,
            "order": null,
            "overflow": null,
            "overflow_x": null,
            "overflow_y": null,
            "padding": null,
            "right": null,
            "top": null,
            "visibility": null,
            "width": null
          }
        }
      }
    }
  },
  "nbformat": 4,
  "nbformat_minor": 0
}
